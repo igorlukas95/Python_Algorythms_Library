{
  "nbformat": 4,
  "nbformat_minor": 0,
  "metadata": {
    "colab": {
      "name": "100_Exercises_Python.ipynb",
      "provenance": [],
      "collapsed_sections": [
        "iV9AgQIarb7j",
        "Jxk3xT9NrWfy",
        "-rkhM_gxwBDi",
        "ViKdVgiLyU3N",
        "IZeuMHWu0vW6",
        "veWZp01rsiNb",
        "OcndBBwmuVYx",
        "QFmRZl6Q3EtM",
        "WaQfhHiy-ptO",
        "jXst7uyQEfrd",
        "t32-8tUOO_zx",
        "PxUJVxO7TjZe",
        "95mKkvi1kSzR"
      ],
      "toc_visible": true
    },
    "kernelspec": {
      "display_name": "Python 3",
      "name": "python3"
    },
    "language_info": {
      "name": "python"
    }
  },
  "cells": [
    {
      "cell_type": "code",
      "metadata": {
        "colab": {
          "base_uri": "https://localhost:8080/"
        },
        "id": "lkDIYiQrQzVU",
        "outputId": "98f9b662-d641-4f4c-aaee-ea03c0ff08d1"
      },
      "source": [
        "import sys\n",
        "\n",
        "print(sys.version.split()[0])"
      ],
      "execution_count": null,
      "outputs": [
        {
          "output_type": "stream",
          "text": [
            "3.7.10\n"
          ],
          "name": "stdout"
        }
      ]
    },
    {
      "cell_type": "code",
      "metadata": {
        "id": "Mxfe0obuQ9vp"
      },
      "source": [
        "def calculate():\n",
        "  lista = []\n",
        "  for i in range(0,100):\n",
        "    if (i % 5 == 0) or (i % 7 == 0):\n",
        "      lista.append(i)\n",
        "  print(sum(lista))"
      ],
      "execution_count": null,
      "outputs": []
    },
    {
      "cell_type": "code",
      "metadata": {
        "colab": {
          "base_uri": "https://localhost:8080/"
        },
        "id": "1XBEvNDGSwXV",
        "outputId": "83401ed0-60dc-4b86-9bb9-83a5b4e84bdf"
      },
      "source": [
        "calculate()"
      ],
      "execution_count": null,
      "outputs": [
        {
          "output_type": "stream",
          "text": [
            "1580\n"
          ],
          "name": "stdout"
        }
      ]
    },
    {
      "cell_type": "markdown",
      "metadata": {
        "id": "rNrO-fCzT1WC"
      },
      "source": [
        "# Task 2 Fibonacci"
      ]
    },
    {
      "cell_type": "code",
      "metadata": {
        "id": "PRwhqb1cT39u"
      },
      "source": [
        "def calculate():\n",
        "  total = 0\n",
        "  a = 0\n",
        "  b = 1\n",
        "  while a < 1000000:\n",
        "    if a % 2 == 0:\n",
        "      total += a\n",
        "    a, b = b, a + b\n",
        "  print(total)"
      ],
      "execution_count": null,
      "outputs": []
    },
    {
      "cell_type": "code",
      "metadata": {
        "colab": {
          "base_uri": "https://localhost:8080/"
        },
        "id": "c5HtfMpIUSF2",
        "outputId": "1c15dabe-ca8a-4b02-afeb-cf8c08a59d35"
      },
      "source": [
        "calculate()"
      ],
      "execution_count": null,
      "outputs": [
        {
          "output_type": "stream",
          "text": [
            "1089154\n"
          ],
          "name": "stdout"
        }
      ]
    },
    {
      "cell_type": "code",
      "metadata": {
        "id": "3uXW1sWGV5W-"
      },
      "source": [
        ""
      ],
      "execution_count": null,
      "outputs": []
    },
    {
      "cell_type": "markdown",
      "metadata": {
        "id": "WfdfCRoFZJOW"
      },
      "source": [
        "#Dzielenie liczby pierwsze"
      ]
    },
    {
      "cell_type": "code",
      "metadata": {
        "colab": {
          "base_uri": "https://localhost:8080/"
        },
        "id": "Et3cx2_1ZLCp",
        "outputId": "f77a54c9-81a4-48ba-8230-b4c2a746136a"
      },
      "source": [
        "def calculate(number):\n",
        "  i = 2\n",
        "  factor = []\n",
        "  while i * i <= number:\n",
        "    if not number % i == 0:\n",
        "      i += 1\n",
        "    else:\n",
        "      number = number // i\n",
        "      factor.append(i)\n",
        "  if number > 1:\n",
        "    factor.append(number)\n",
        "  return factor\n",
        "calculate(13195)"
      ],
      "execution_count": null,
      "outputs": [
        {
          "output_type": "execute_result",
          "data": {
            "text/plain": [
              "29"
            ]
          },
          "metadata": {
            "tags": []
          },
          "execution_count": 5
        }
      ]
    },
    {
      "cell_type": "markdown",
      "metadata": {
        "id": "V5wmXHRlfOWI"
      },
      "source": [
        "#Zwróc maksymalny factor liczby pierwszej"
      ]
    },
    {
      "cell_type": "code",
      "metadata": {
        "id": "L8fEgpzNba2w"
      },
      "source": [
        "def calculate(number):\n",
        "  i = 2\n",
        "  factor = []\n",
        "  while i * i <= number:\n",
        "    if not number % i == 0:\n",
        "      i += 1\n",
        "    else:\n",
        "      number = number // i\n",
        "      factor.append(i)\n",
        "  if number > 1:\n",
        "    factor.append(number)\n",
        "  return max(factor)"
      ],
      "execution_count": null,
      "outputs": []
    },
    {
      "cell_type": "markdown",
      "metadata": {
        "id": "TvJuodQ3fi5L"
      },
      "source": [
        "#Palindromia"
      ]
    },
    {
      "cell_type": "code",
      "metadata": {
        "colab": {
          "base_uri": "https://localhost:8080/"
        },
        "id": "cPSNbDSMfkiP",
        "outputId": "b6875c37-1d56-452d-efb5-320a8d1d8adf"
      },
      "source": [
        "def calculate():\n",
        "  pali_num = []\n",
        "  for i in range(100,1000):\n",
        "    if str(i) == str(i)[::-1]:\n",
        "      pali_num.append(i)\n",
        "  return len(pali_num)\n",
        "calculate()"
      ],
      "execution_count": null,
      "outputs": [
        {
          "output_type": "execute_result",
          "data": {
            "text/plain": [
              "90"
            ]
          },
          "metadata": {
            "tags": []
          },
          "execution_count": 12
        }
      ]
    },
    {
      "cell_type": "markdown",
      "metadata": {
        "id": "df5VvA0biJkh"
      },
      "source": [
        "# Palindromia zadanie 2"
      ]
    },
    {
      "cell_type": "code",
      "metadata": {
        "colab": {
          "base_uri": "https://localhost:8080/"
        },
        "id": "aVhwoxf7foL-",
        "outputId": "f4c5c48c-ec73-4b06-f0bc-79b59fb23b48"
      },
      "source": [
        "def calculate():\n",
        "  pali_num = []\n",
        "  for i in range(10,100):\n",
        "    for j in range(10,100):\n",
        "      dot = i * j\n",
        "      if str(dot) == str(dot)[::-1]:\n",
        "        pali_num.append(dot)\n",
        "  return max(pali_num)\n",
        "calculate()"
      ],
      "execution_count": null,
      "outputs": [
        {
          "output_type": "execute_result",
          "data": {
            "text/plain": [
              "9009"
            ]
          },
          "metadata": {
            "tags": []
          },
          "execution_count": 16
        }
      ]
    },
    {
      "cell_type": "code",
      "metadata": {
        "colab": {
          "base_uri": "https://localhost:8080/"
        },
        "id": "D2m9siEJjbVI",
        "outputId": "520dc5d7-c468-427b-e187-cfe0c3b6e815"
      },
      "source": [
        "def calculate():\n",
        "    numbers = []\n",
        "    for i in range(10, 100):\n",
        "        for j in range(10, 100):\n",
        "            if str(i * j) == str(i * j)[::-1]:\n",
        "                numbers.append(i * j)\n",
        "    return max(numbers)\n",
        " \n",
        " \n",
        "print(calculate())"
      ],
      "execution_count": null,
      "outputs": [
        {
          "output_type": "stream",
          "text": [
            "9009\n"
          ],
          "name": "stdout"
        }
      ]
    },
    {
      "cell_type": "markdown",
      "metadata": {
        "id": "iV9AgQIarb7j"
      },
      "source": [
        "#Największy wspólny dzielnik"
      ]
    },
    {
      "cell_type": "code",
      "metadata": {
        "colab": {
          "base_uri": "https://localhost:8080/"
        },
        "id": "I0qMlFd2nk82",
        "outputId": "4256e6a6-6d38-4d05-e073-7d94d3762545"
      },
      "source": [
        "def greatest_common_divisor(number1,number2):\n",
        "  lista = []\n",
        "  for i in range(1,max(number1,number2)):\n",
        "    if (number1 % i == 0) & (number2 % i == 0):\n",
        "      lista.append(i)\n",
        "  print(max(lista))\n",
        "\n",
        "greatest_common_divisor(10,8)"
      ],
      "execution_count": null,
      "outputs": [
        {
          "output_type": "stream",
          "text": [
            "2\n"
          ],
          "name": "stdout"
        }
      ]
    },
    {
      "cell_type": "markdown",
      "metadata": {
        "id": "Jxk3xT9NrWfy"
      },
      "source": [
        "#Czy to jest liczba pierwsza?"
      ]
    },
    {
      "cell_type": "code",
      "metadata": {
        "id": "HiGGPjb6oprE"
      },
      "source": [
        "def is_prime(x):\n",
        "  if x < 2:\n",
        "    return False\n",
        "  if x % 2 == 0:\n",
        "    return x == 2\n",
        "  i = 3\n",
        "  while i * i <= x:\n",
        "    if x % i == 0:\n",
        "      return False\n",
        "    i += 2\n",
        "  return True\n"
      ],
      "execution_count": null,
      "outputs": []
    },
    {
      "cell_type": "markdown",
      "metadata": {
        "id": "-rkhM_gxwBDi"
      },
      "source": [
        "#Wydrukuj 100 liczbę pierwszą"
      ]
    },
    {
      "cell_type": "code",
      "metadata": {
        "colab": {
          "base_uri": "https://localhost:8080/"
        },
        "id": "SOwA3NqywDTG",
        "outputId": "bd165844-da85-4e1a-c69f-503750d65654"
      },
      "source": [
        "def is_prime(x):\n",
        "  if x < 2:\n",
        "    return False\n",
        "  if x % 2 == 0:\n",
        "    return x == 2\n",
        "  i = 3\n",
        "  while i * i <= x:\n",
        "    if x % i == 0:\n",
        "      return False\n",
        "    i += 2\n",
        "  return True\n",
        "\n",
        "def calculate():\n",
        "  counter = 0\n",
        "  number = 2\n",
        "  while True:\n",
        "    if is_prime(number):\n",
        "      counter += 1\n",
        "      if counter == 100:\n",
        "        return number\n",
        "    number += 1\n",
        "calculate()"
      ],
      "execution_count": null,
      "outputs": [
        {
          "output_type": "execute_result",
          "data": {
            "text/plain": [
              "541"
            ]
          },
          "metadata": {
            "tags": []
          },
          "execution_count": 39
        }
      ]
    },
    {
      "cell_type": "markdown",
      "metadata": {
        "id": "ViKdVgiLyU3N"
      },
      "source": [
        "#Binarna palindromia"
      ]
    },
    {
      "cell_type": "code",
      "metadata": {
        "colab": {
          "base_uri": "https://localhost:8080/",
          "height": 35
        },
        "id": "S7eV7zVlyWxH",
        "outputId": "bb61a10b-a8b5-437b-b57d-9be079695602"
      },
      "source": [
        "bin(99)"
      ],
      "execution_count": null,
      "outputs": [
        {
          "output_type": "execute_result",
          "data": {
            "application/vnd.google.colaboratory.intrinsic+json": {
              "type": "string"
            },
            "text/plain": [
              "'0b1100011'"
            ]
          },
          "metadata": {
            "tags": []
          },
          "execution_count": 42
        }
      ]
    },
    {
      "cell_type": "code",
      "metadata": {
        "id": "eSQv2Jl2yaa5"
      },
      "source": [
        "def is_palindrome(number):\n",
        "    if str(number) != str(number)[::-1]:\n",
        "        return False\n",
        "    bin_number = bin(number)[2:]\n",
        "    return bin_number == bin_number[::-1]"
      ],
      "execution_count": null,
      "outputs": []
    },
    {
      "cell_type": "code",
      "metadata": {
        "colab": {
          "base_uri": "https://localhost:8080/"
        },
        "id": "c4Pgp5-5zq7W",
        "outputId": "8757e053-33ec-49dd-d74d-ca5e150a7ea2"
      },
      "source": [
        "is_palindrome(99)"
      ],
      "execution_count": null,
      "outputs": [
        {
          "output_type": "execute_result",
          "data": {
            "text/plain": [
              "True"
            ]
          },
          "metadata": {
            "tags": []
          },
          "execution_count": 50
        }
      ]
    },
    {
      "cell_type": "markdown",
      "metadata": {
        "id": "IZeuMHWu0vW6"
      },
      "source": [
        "#Wszytskie Liczby palindromiczne zwykłe i binarne od 100 do 1000"
      ]
    },
    {
      "cell_type": "code",
      "metadata": {
        "colab": {
          "base_uri": "https://localhost:8080/"
        },
        "id": "Q7nJCyH3zNB1",
        "outputId": "6dfc6a5f-4917-48ea-ec28-bed2bef0a8a9"
      },
      "source": [
        "def calculate():\n",
        "  pali_num = []\n",
        "  for i in range(100,1000):\n",
        "    bin_number = bin(i)[2:]\n",
        "    if (str(i) == str(i)[::-1]) & (bin_number == bin_number[::-1]):\n",
        "      pali_num.append(i)\n",
        "  return pali_num\n",
        "calculate()"
      ],
      "execution_count": null,
      "outputs": [
        {
          "output_type": "execute_result",
          "data": {
            "text/plain": [
              "[313, 585, 717]"
            ]
          },
          "metadata": {
            "tags": []
          },
          "execution_count": 52
        }
      ]
    },
    {
      "cell_type": "markdown",
      "metadata": {
        "id": "veWZp01rsiNb"
      },
      "source": [
        "# Algorytm kompresjii liczb"
      ]
    },
    {
      "cell_type": "code",
      "metadata": {
        "id": "LT8eGTFCsnIk"
      },
      "source": [
        "from itertools import groupby"
      ],
      "execution_count": null,
      "outputs": []
    },
    {
      "cell_type": "code",
      "metadata": {
        "id": "EP-IJBzkswBU"
      },
      "source": [
        "def compress(number):\n",
        "  result = []\n",
        "  for key, group in groupby(str(number)):\n",
        "    result.append((key,len(list(group))))\n",
        "  return result"
      ],
      "execution_count": null,
      "outputs": []
    },
    {
      "cell_type": "code",
      "metadata": {
        "colab": {
          "base_uri": "https://localhost:8080/"
        },
        "id": "CL7bT95ltXw7",
        "outputId": "1c310d43-bf15-43af-a5d6-16194d17264c"
      },
      "source": [
        "compress(111)"
      ],
      "execution_count": null,
      "outputs": [
        {
          "output_type": "execute_result",
          "data": {
            "text/plain": [
              "[('1', 3)]"
            ]
          },
          "metadata": {
            "tags": []
          },
          "execution_count": 6
        }
      ]
    },
    {
      "cell_type": "markdown",
      "metadata": {
        "id": "OcndBBwmuVYx"
      },
      "source": [
        "# Algorytm kompresji liczb"
      ]
    },
    {
      "cell_type": "code",
      "metadata": {
        "id": "dx1NmScBuKKw"
      },
      "source": [
        "number = 5555111122233330"
      ],
      "execution_count": null,
      "outputs": []
    },
    {
      "cell_type": "code",
      "metadata": {
        "colab": {
          "base_uri": "https://localhost:8080/"
        },
        "id": "gdXczdNyueCj",
        "outputId": "65e4c1e5-fb2e-4245-ede9-342815135b33"
      },
      "source": [
        "[list(g) for k, g in groupby(str(number))]"
      ],
      "execution_count": null,
      "outputs": [
        {
          "output_type": "execute_result",
          "data": {
            "text/plain": [
              "[['5', '5', '5', '5'],\n",
              " ['1', '1', '1', '1'],\n",
              " ['2', '2', '2'],\n",
              " ['3', '3', '3', '3'],\n",
              " ['0']]"
            ]
          },
          "metadata": {
            "tags": []
          },
          "execution_count": 12
        }
      ]
    },
    {
      "cell_type": "code",
      "metadata": {
        "id": "DGVC3dVFyNQa"
      },
      "source": [
        "def compress(number):\n",
        "    result = []\n",
        "    for key, group in groupby(str(number)):\n",
        "        result.append((key, str(len(list(group)))))\n",
        "    result = [''.join(item) for item in result]\n",
        "    return '_'.join(result)"
      ],
      "execution_count": null,
      "outputs": []
    },
    {
      "cell_type": "code",
      "metadata": {
        "colab": {
          "base_uri": "https://localhost:8080/",
          "height": 35
        },
        "id": "0EKjIt1V0sw2",
        "outputId": "58f7ee8e-907e-4ea9-a5e3-5951d1351ba6"
      },
      "source": [
        "compress(5555111122233330)"
      ],
      "execution_count": null,
      "outputs": [
        {
          "output_type": "execute_result",
          "data": {
            "application/vnd.google.colaboratory.intrinsic+json": {
              "type": "string"
            },
            "text/plain": [
              "'54_14_23_34_01'"
            ]
          },
          "metadata": {
            "tags": []
          },
          "execution_count": 20
        }
      ]
    },
    {
      "cell_type": "markdown",
      "metadata": {
        "id": "QFmRZl6Q3EtM"
      },
      "source": [
        "# Kompresja groupby liczb"
      ]
    },
    {
      "cell_type": "code",
      "metadata": {
        "id": "t9flcySr3JZq"
      },
      "source": [
        "def compress(number):\n",
        "    result = []\n",
        "    for key, group in groupby(str(number)):\n",
        "        result.append((key, len(list(group))))\n",
        "    result = [''.join((i, '.'*j)) for i, j in result]\n",
        "    return ''.join(result)"
      ],
      "execution_count": null,
      "outputs": []
    },
    {
      "cell_type": "code",
      "metadata": {
        "colab": {
          "base_uri": "https://localhost:8080/",
          "height": 35
        },
        "id": "EQerWJbg6ciY",
        "outputId": "1104aaf3-3722-4558-eb79-d919e4cb0785"
      },
      "source": [
        "compress(5555111122233330)"
      ],
      "execution_count": null,
      "outputs": [
        {
          "output_type": "execute_result",
          "data": {
            "application/vnd.google.colaboratory.intrinsic+json": {
              "type": "string"
            },
            "text/plain": [
              "'5....1....2...3....0.'"
            ]
          },
          "metadata": {
            "tags": []
          },
          "execution_count": 25
        }
      ]
    },
    {
      "cell_type": "markdown",
      "metadata": {
        "id": "WaQfhHiy-ptO"
      },
      "source": [
        "#Dekompresja Liczb"
      ]
    },
    {
      "cell_type": "code",
      "metadata": {
        "id": "7NOjqcJU-r3W"
      },
      "source": [
        "from itertools import groupby\n",
        "\n",
        "\n",
        "def compress(number):\n",
        "    result = []\n",
        "    for key, group in groupby(str(number)):\n",
        "        result.append((key, str(len(list(group)))))\n",
        "    result = [''.join(item) for item in result]\n",
        "    return '_'.join(result)\n",
        "\n",
        "def decompress(compressed):\n",
        "  result = [tuple(item) for item in compressed.split('_')]\n",
        "  result = [i * int(j) for i , j in result]\n",
        "  return int(''.join(result))"
      ],
      "execution_count": null,
      "outputs": []
    },
    {
      "cell_type": "code",
      "metadata": {
        "colab": {
          "base_uri": "https://localhost:8080/"
        },
        "id": "tNZmy9kyDxPw",
        "outputId": "7955bbd0-9ea1-4603-8241-f04f9cb40fb1"
      },
      "source": [
        "decompress('54_14_23_34_01')"
      ],
      "execution_count": null,
      "outputs": [
        {
          "output_type": "execute_result",
          "data": {
            "text/plain": [
              "5555111122233330"
            ]
          },
          "metadata": {
            "tags": []
          },
          "execution_count": 29
        }
      ]
    },
    {
      "cell_type": "code",
      "metadata": {
        "id": "7LmaKxF2DykN"
      },
      "source": [
        ""
      ],
      "execution_count": null,
      "outputs": []
    },
    {
      "cell_type": "markdown",
      "metadata": {
        "id": "jXst7uyQEfrd"
      },
      "source": [
        "# Nested matrix from string"
      ]
    },
    {
      "cell_type": "code",
      "metadata": {
        "colab": {
          "base_uri": "https://localhost:8080/",
          "height": 197
        },
        "id": "nUEli9m_GRJ7",
        "outputId": "723e7b40-3829-4bd1-92d0-e17036621ff9"
      },
      "source": [
        "result = []\n",
        "macierz = '3 4\\n 5 7'\n",
        "for i in macierz:\n",
        "  if '\\n' in macierz:\n",
        "    result.append(list(int(i)))"
      ],
      "execution_count": null,
      "outputs": [
        {
          "output_type": "error",
          "ename": "TypeError",
          "evalue": "ignored",
          "traceback": [
            "\u001b[0;31m---------------------------------------------------------------------------\u001b[0m",
            "\u001b[0;31mTypeError\u001b[0m                                 Traceback (most recent call last)",
            "\u001b[0;32m<ipython-input-30-b970489a8406>\u001b[0m in \u001b[0;36m<module>\u001b[0;34m()\u001b[0m\n\u001b[1;32m      3\u001b[0m \u001b[0;32mfor\u001b[0m \u001b[0mi\u001b[0m \u001b[0;32min\u001b[0m \u001b[0mmacierz\u001b[0m\u001b[0;34m:\u001b[0m\u001b[0;34m\u001b[0m\u001b[0;34m\u001b[0m\u001b[0m\n\u001b[1;32m      4\u001b[0m   \u001b[0;32mif\u001b[0m \u001b[0;34m'\\n'\u001b[0m \u001b[0;32min\u001b[0m \u001b[0mmacierz\u001b[0m\u001b[0;34m:\u001b[0m\u001b[0;34m\u001b[0m\u001b[0;34m\u001b[0m\u001b[0m\n\u001b[0;32m----> 5\u001b[0;31m     \u001b[0mresult\u001b[0m\u001b[0;34m.\u001b[0m\u001b[0mappend\u001b[0m\u001b[0;34m(\u001b[0m\u001b[0mlist\u001b[0m\u001b[0;34m(\u001b[0m\u001b[0mint\u001b[0m\u001b[0;34m(\u001b[0m\u001b[0mi\u001b[0m\u001b[0;34m)\u001b[0m\u001b[0;34m)\u001b[0m\u001b[0;34m)\u001b[0m\u001b[0;34m\u001b[0m\u001b[0;34m\u001b[0m\u001b[0m\n\u001b[0m",
            "\u001b[0;31mTypeError\u001b[0m: 'int' object is not iterable"
          ]
        }
      ]
    },
    {
      "cell_type": "code",
      "metadata": {
        "id": "g8u7BPGBG9eY"
      },
      "source": [
        "class Matrix():\n",
        "  def __init__(self,string):\n",
        "    self.matrix = [[int(i) for  i in row.split()] for row in string.splitlines()]"
      ],
      "execution_count": null,
      "outputs": []
    },
    {
      "cell_type": "code",
      "metadata": {
        "colab": {
          "base_uri": "https://localhost:8080/"
        },
        "id": "rfGe6MzlHP0e",
        "outputId": "5f8c993f-cd41-4ed9-e10b-ff547129b7b4"
      },
      "source": [
        "m = Matrix('3 4\\n 5 7')\n",
        "m.matrix"
      ],
      "execution_count": null,
      "outputs": [
        {
          "output_type": "execute_result",
          "data": {
            "text/plain": [
              "[[3, 4], [5, 7]]"
            ]
          },
          "metadata": {
            "tags": []
          },
          "execution_count": 32
        }
      ]
    },
    {
      "cell_type": "markdown",
      "metadata": {
        "id": "t32-8tUOO_zx"
      },
      "source": [
        "# Forma reprezentacyjna"
      ]
    },
    {
      "cell_type": "code",
      "metadata": {
        "id": "aZ_t_7I4HaFO"
      },
      "source": [
        "class Matrix():\n",
        "  def __init__(self,string):\n",
        "    self.matrix = [[int(i) for  i in row.split()] for row in string.splitlines()]\n",
        "\n",
        "  def row(self, index):\n",
        "    return self.matrix[index]\n",
        "\n",
        "  def __repr__(self):\n",
        "    return '\\n'.join([(' '.join([str(i) for i in row])) for row in self.matrix])\n",
        "  def column(self, index):\n",
        "    return [row[index] for row in self.matrix]"
      ],
      "execution_count": null,
      "outputs": []
    },
    {
      "cell_type": "code",
      "metadata": {
        "colab": {
          "base_uri": "https://localhost:8080/"
        },
        "id": "3qd_w6eKPjLE",
        "outputId": "eceb9bc5-0f05-486b-b955-457f4f9c9ac8"
      },
      "source": [
        "m = Matrix('3 4\\n 5 7')\n",
        "m.matrix"
      ],
      "execution_count": null,
      "outputs": [
        {
          "output_type": "execute_result",
          "data": {
            "text/plain": [
              "[[3, 4], [5, 7]]"
            ]
          },
          "metadata": {
            "tags": []
          },
          "execution_count": 50
        }
      ]
    },
    {
      "cell_type": "code",
      "metadata": {
        "colab": {
          "base_uri": "https://localhost:8080/"
        },
        "id": "QcO0KfRpPlY_",
        "outputId": "5251c721-2503-457a-aef1-c80e5121ba36"
      },
      "source": [
        "print(m.__repr__())"
      ],
      "execution_count": null,
      "outputs": [
        {
          "output_type": "stream",
          "text": [
            "3 4\n",
            "5 7\n"
          ],
          "name": "stdout"
        }
      ]
    },
    {
      "cell_type": "code",
      "metadata": {
        "colab": {
          "base_uri": "https://localhost:8080/"
        },
        "id": "I-sc6QOLPm0Q",
        "outputId": "84842566-2d6b-48ba-f16a-f753b4e2c4c9"
      },
      "source": [
        "m.row(1)"
      ],
      "execution_count": null,
      "outputs": [
        {
          "output_type": "execute_result",
          "data": {
            "text/plain": [
              "[5, 7]"
            ]
          },
          "metadata": {
            "tags": []
          },
          "execution_count": 52
        }
      ]
    },
    {
      "cell_type": "code",
      "metadata": {
        "colab": {
          "base_uri": "https://localhost:8080/"
        },
        "id": "JKwbHYJlRDxC",
        "outputId": "253d38fb-d5d6-4012-e55e-4f73e07262c6"
      },
      "source": [
        "m.column(0)"
      ],
      "execution_count": null,
      "outputs": [
        {
          "output_type": "execute_result",
          "data": {
            "text/plain": [
              "[3, 5]"
            ]
          },
          "metadata": {
            "tags": []
          },
          "execution_count": 56
        }
      ]
    },
    {
      "cell_type": "markdown",
      "metadata": {
        "id": "PxUJVxO7TjZe"
      },
      "source": [
        "# Hamming distance"
      ]
    },
    {
      "cell_type": "code",
      "metadata": {
        "id": "5oN_BN-DTA-p"
      },
      "source": [
        "def hamming_distance(num1,num2):\n",
        "  result = 0\n",
        "  if len(num1)!= len(num2):\n",
        "    raise ValueError('Both vectors must be the same length.')\n",
        "  for i in range(len(num1)):\n",
        "    if num1[i] != num2[i]:\n",
        "      result += 1\n",
        "  return result"
      ],
      "execution_count": null,
      "outputs": []
    },
    {
      "cell_type": "code",
      "metadata": {
        "colab": {
          "base_uri": "https://localhost:8080/"
        },
        "id": "vv3mlvQzT-QM",
        "outputId": "a4ecbaaf-5444-49f5-e447-feef750c4bd0"
      },
      "source": [
        "a = \"12345\"    \n",
        "list(map(str, a))"
      ],
      "execution_count": null,
      "outputs": [
        {
          "output_type": "execute_result",
          "data": {
            "text/plain": [
              "['1', '2', '3', '4', '5']"
            ]
          },
          "metadata": {
            "tags": []
          },
          "execution_count": 67
        }
      ]
    },
    {
      "cell_type": "code",
      "metadata": {
        "colab": {
          "base_uri": "https://localhost:8080/"
        },
        "id": "veWwRI-_UCCS",
        "outputId": "29aa668b-bcc2-4ce4-f1e2-b17c75eeee18"
      },
      "source": [
        "hamming_distance('11122111','10122211')"
      ],
      "execution_count": null,
      "outputs": [
        {
          "output_type": "execute_result",
          "data": {
            "text/plain": [
              "2"
            ]
          },
          "metadata": {
            "tags": []
          },
          "execution_count": 90
        }
      ]
    },
    {
      "cell_type": "markdown",
      "metadata": {
        "id": "95mKkvi1kSzR"
      },
      "source": [
        "#Hamming Weight"
      ]
    },
    {
      "cell_type": "code",
      "metadata": {
        "id": "r9eFnogxkUHk"
      },
      "source": [
        "def hamming_weight(num1):\n",
        "  return num1.count('1')"
      ],
      "execution_count": null,
      "outputs": []
    },
    {
      "cell_type": "code",
      "metadata": {
        "colab": {
          "base_uri": "https://localhost:8080/"
        },
        "id": "EWt75Xtw1zFv",
        "outputId": "29b93cf4-cde0-4e33-d36d-e263df75e308"
      },
      "source": [
        "hamming_weight('10122211')"
      ],
      "execution_count": null,
      "outputs": [
        {
          "output_type": "execute_result",
          "data": {
            "text/plain": [
              "4"
            ]
          },
          "metadata": {
            "tags": []
          },
          "execution_count": 2
        }
      ]
    },
    {
      "cell_type": "markdown",
      "metadata": {
        "id": "kqJfXz8MDs1c"
      },
      "source": [
        "#Scrabble"
      ]
    },
    {
      "cell_type": "code",
      "metadata": {
        "colab": {
          "background_save": true
        },
        "id": "CsUxI423DwgN"
      },
      "source": [
        "from collections import ChainMap\n",
        "\n",
        "english_scoreboard = {\n",
        "    ' ' : 0,\n",
        "    'EAIORNLTSU' : 1,\n",
        "    'DG' : 2,\n",
        "    'BCMP' : 3,\n",
        "    'FVHWY' : 4,\n",
        "    'K' : 5,\n",
        "    'JX' : 8,\n",
        "    'QX'\n",
        "}"
      ],
      "execution_count": null,
      "outputs": []
    },
    {
      "cell_type": "code",
      "metadata": {
        "id": "-5ghX7f3D9PV"
      },
      "source": [
        ""
      ],
      "execution_count": null,
      "outputs": []
    },
    {
      "cell_type": "markdown",
      "metadata": {
        "id": "ylmGmLoqfzO3"
      },
      "source": [
        "#Pickle"
      ]
    },
    {
      "cell_type": "code",
      "metadata": {
        "colab": {
          "base_uri": "https://localhost:8080/",
          "height": 231
        },
        "id": "OQ2LkhpLf14I",
        "outputId": "5d89f99e-8e2a-40d4-e38f-e4c01c928090"
      },
      "source": [
        "from collections import namedtuple\n",
        "import json\n",
        "import pickle\n",
        "\n",
        "\n",
        "#Read json file\n",
        "with open('users.json','r') as file:\n",
        "  content = json.load(file)\n",
        "#Extract all the attribute names\n",
        "attributes = tuple(content[0].keys())\n",
        "#Create user class\n",
        "User = namedtuple('User', attributes)\n",
        "#Create and return instances of User class\n",
        "values = [tuple(user.values()) for user in content]\n",
        "users = [User(*user) for user in values]\n",
        "    \n",
        "with open('users.pickle','wb') as file:\n",
        "  pickle.dump(users,file)\n",
        "with open('users.pickle', 'rb') as file:\n",
        "  content = pickle.load(file)\n",
        "result = tuple(filter(lambda obj: obj.id == 4, content))[0]\n",
        "print(result)"
      ],
      "execution_count": null,
      "outputs": [
        {
          "output_type": "error",
          "ename": "FileNotFoundError",
          "evalue": "ignored",
          "traceback": [
            "\u001b[0;31m---------------------------------------------------------------------------\u001b[0m",
            "\u001b[0;31mFileNotFoundError\u001b[0m                         Traceback (most recent call last)",
            "\u001b[0;32m<ipython-input-1-8f40b7b59c37>\u001b[0m in \u001b[0;36m<module>\u001b[0;34m()\u001b[0m\n\u001b[1;32m      5\u001b[0m \u001b[0;34m\u001b[0m\u001b[0m\n\u001b[1;32m      6\u001b[0m \u001b[0;31m#Read json file\u001b[0m\u001b[0;34m\u001b[0m\u001b[0;34m\u001b[0m\u001b[0;34m\u001b[0m\u001b[0m\n\u001b[0;32m----> 7\u001b[0;31m \u001b[0;32mwith\u001b[0m \u001b[0mopen\u001b[0m\u001b[0;34m(\u001b[0m\u001b[0;34m'users.json'\u001b[0m\u001b[0;34m,\u001b[0m\u001b[0;34m'r'\u001b[0m\u001b[0;34m)\u001b[0m \u001b[0;32mas\u001b[0m \u001b[0mfile\u001b[0m\u001b[0;34m:\u001b[0m\u001b[0;34m\u001b[0m\u001b[0;34m\u001b[0m\u001b[0m\n\u001b[0m\u001b[1;32m      8\u001b[0m   \u001b[0mcontent\u001b[0m \u001b[0;34m=\u001b[0m \u001b[0mjson\u001b[0m\u001b[0;34m.\u001b[0m\u001b[0mload\u001b[0m\u001b[0;34m(\u001b[0m\u001b[0mfile\u001b[0m\u001b[0;34m)\u001b[0m\u001b[0;34m\u001b[0m\u001b[0;34m\u001b[0m\u001b[0m\n\u001b[1;32m      9\u001b[0m \u001b[0;31m#Extract all the attribute names\u001b[0m\u001b[0;34m\u001b[0m\u001b[0;34m\u001b[0m\u001b[0;34m\u001b[0m\u001b[0m\n",
            "\u001b[0;31mFileNotFoundError\u001b[0m: [Errno 2] No such file or directory: 'users.json'"
          ]
        }
      ]
    },
    {
      "cell_type": "markdown",
      "metadata": {
        "id": "XgoRRntGf7mi"
      },
      "source": [
        "#SQL Exercises"
      ]
    },
    {
      "cell_type": "code",
      "metadata": {
        "id": "ReoVSYCuf9Dk"
      },
      "source": [
        "import sqlite3\n",
        "\n",
        "\n",
        "# Create connection here\n",
        "conn = sqlite3.connect('app.db')\n",
        "cur = conn.cursor()\n",
        "\n",
        "# Create table\n",
        "sql = '''CREATE TABLE IF NOT EXISTS customer (\n",
        "    customer_id INTEGER PRIMARY KEY,\n",
        "    first_name  TEXT,\n",
        "    last_name   TEXT,\n",
        "    email       TEXT\n",
        ")'''\n",
        "\n",
        "cur.execute(sql)\n",
        "\n",
        "#Insert a row\n",
        "cur.execute(\"\"\"INSERT INTO customer (first_name, last_name, email)\n",
        "VALUES ('John', 'Smith', 'john.smith@esmartdata.org') \"\"\")\n",
        "\n",
        "#Commit changes\n",
        "conn.commit()\n",
        "\n",
        "#Close connection\n",
        "conn.close()"
      ],
      "execution_count": null,
      "outputs": []
    },
    {
      "cell_type": "code",
      "metadata": {
        "colab": {
          "base_uri": "https://localhost:8080/"
        },
        "id": "ZLlLsP0EgAtk",
        "outputId": "7e6df024-4958-425a-8d0a-ef080c5a92b7"
      },
      "source": [
        "import sqlite3\n",
        "\n",
        "\n",
        "# Create connection\n",
        "conn = sqlite3.connect('app.db')\n",
        "cur = conn.cursor()\n",
        "\n",
        "# Create table\n",
        "sql = '''CREATE TABLE IF NOT EXISTS customer (\n",
        "    customer_id INTEGER PRIMARY KEY,\n",
        "    first_name  TEXT,\n",
        "    last_name   TEXT,\n",
        "    email       TEXT\n",
        ")'''\n",
        "cur.execute(sql)\n",
        "\n",
        "# Insert rows\n",
        "cur.execute('''INSERT INTO customer (first_name, last_name, email)\n",
        "VALUES ('John', 'Smith', 'john.smith@esmartdata.org')''')\n",
        "cur.execute('''INSERT INTO customer (first_name, last_name, email)\n",
        "VALUES ('Mike', 'Doe', 'mike.doe@esmartdata.org')''')\n",
        "\n",
        "# Make a query here\n",
        "cur.execute(\"select * from customer \")\n",
        "print(cur.fetchall())\n",
        "# Commit changes\n",
        "conn.commit()\n",
        "\n",
        "# Close connection\n",
        "conn.close()"
      ],
      "execution_count": null,
      "outputs": [
        {
          "output_type": "stream",
          "text": [
            "[(1, 'John', 'Smith', 'john.smith@esmartdata.org'), (2, 'John', 'Smith', 'john.smith@esmartdata.org'), (3, 'Mike', 'Doe', 'mike.doe@esmartdata.org')]\n"
          ],
          "name": "stdout"
        }
      ]
    },
    {
      "cell_type": "code",
      "metadata": {
        "id": "Gmiv7n9LgEAT"
      },
      "source": [
        "import sqlite3\n",
        " \n",
        " \n",
        "conn = sqlite3.connect('app.db')\n",
        "cur = conn.cursor()\n",
        " \n",
        "cur.execute('''CREATE TABLE IF NOT EXISTS customer (\n",
        "    customer_id INTEGER PRIMARY KEY,\n",
        "    first_name  TEXT,\n",
        "    last_name   TEXT,\n",
        "    email       TEXT\n",
        ")''')\n",
        " \n",
        "cur.executescript('''INSERT INTO customer (first_name, last_name, email)\n",
        "VALUES ('John', 'Smith', 'john.smith@esmartdata.org');\n",
        " \n",
        "INSERT INTO customer (first_name, last_name, email)\n",
        "VALUES ('Joe', 'Doe', 'joe.doe@esmartdata.org');\n",
        " \n",
        "INSERT INTO customer (first_name, last_name, email)\n",
        "VALUES ('Mike', 'Smith', 'mike.smith@esmartdata.org');''')\n",
        " \n",
        "conn.commit()\n",
        "conn.close()"
      ],
      "execution_count": null,
      "outputs": []
    },
    {
      "cell_type": "code",
      "metadata": {
        "colab": {
          "base_uri": "https://localhost:8080/"
        },
        "id": "XHqZ_vFbgHeM",
        "outputId": "126e281e-1560-4e24-d1ab-ac66ed5c641a"
      },
      "source": [
        "import sqlite3\n",
        "\n",
        "\n",
        "conn = sqlite3.connect('app.db')\n",
        "cur = conn.cursor()\n",
        "\n",
        "cur.execute('''CREATE TABLE IF NOT EXISTS customer (\n",
        "    customer_id INTEGER PRIMARY KEY,\n",
        "    first_name  TEXT,\n",
        "    last_name   TEXT,\n",
        "    email       TEXT\n",
        ")''')\n",
        "\n",
        "cur.executescript('''INSERT INTO customer (first_name, last_name, email)\n",
        "VALUES ('John', 'Smith', 'john.smith@esmartdata.org');\n",
        "\n",
        "INSERT INTO customer (first_name, last_name, email)\n",
        "VALUES ('Joe', 'Doe', 'joe.doe@esmartdata.org');\n",
        "\n",
        "INSERT INTO customer (first_name, last_name, email)\n",
        "VALUES ('Mike', 'Smith', 'mike.smith@esmartdata.org');''')\n",
        "\n",
        "# Enter your solution here\n",
        "cur.execute(\"select count(*) from customer\")\n",
        "print(cur.fetchall()[0][0])\n",
        "\n",
        "conn.commit()\n",
        "conn.close()"
      ],
      "execution_count": null,
      "outputs": [
        {
          "output_type": "stream",
          "text": [
            "12\n"
          ],
          "name": "stdout"
        }
      ]
    },
    {
      "cell_type": "code",
      "metadata": {
        "colab": {
          "base_uri": "https://localhost:8080/"
        },
        "id": "ghFgfLYlgKRa",
        "outputId": "1df673a2-a7cd-4d3c-f788-ee535615d692"
      },
      "source": [
        "import sqlite3\n",
        "\n",
        "\n",
        "conn = sqlite3.connect('app.db')\n",
        "cur = conn.cursor()\n",
        "\n",
        "cur.execute('''CREATE TABLE category (\n",
        "    category_id   INTEGER,\n",
        "    category_name TEXT    NOT NULL,\n",
        "    PRIMARY KEY (category_id)\n",
        ")''')\n",
        "\n",
        "cur.execute('''INSERT INTO category (category_name) VALUES ('technology')''')\n",
        "cur.execute('''INSERT INTO category (category_name) VALUES ('e-commerce')''')\n",
        "cur.execute('''INSERT INTO category (category_name) VALUES ('gaming')''')\n",
        "\n",
        "conn.commit()\n",
        "\n",
        "categories = cur.execute(\"select * from category\").fetchall()\n",
        "print(categories)"
      ],
      "execution_count": null,
      "outputs": [
        {
          "output_type": "stream",
          "text": [
            "[(1, 'technology'), (2, 'e-commerce'), (3, 'gaming')]\n"
          ],
          "name": "stdout"
        }
      ]
    },
    {
      "cell_type": "code",
      "metadata": {
        "colab": {
          "base_uri": "https://localhost:8080/",
          "height": 299
        },
        "id": "NyKL-p0ZgNET",
        "outputId": "e27f7f2e-a647-40cf-b172-b5dcdb9d563e"
      },
      "source": [
        "import sqlite3\n",
        " \n",
        " \n",
        "conn = sqlite3.connect('app.db')\n",
        "cur = conn.cursor()\n",
        " \n",
        "cur.execute('''CREATE TABLE category (\n",
        "    category_id   INTEGER,\n",
        "    category_name TEXT    NOT NULL,\n",
        "    PRIMARY KEY (category_id)\n",
        ")''')\n",
        " \n",
        "cur.execute('''INSERT INTO category (category_name) VALUES ('technology')''')\n",
        "cur.execute('''INSERT INTO category (category_name) VALUES ('e-commerce')''')\n",
        "cur.execute('''INSERT INTO category (category_name) VALUES ('gaming')''')\n",
        "conn.commit()\n",
        " \n",
        "cur.execute('''UPDATE category SET category_name = 'online shop' WHERE category_id = 2''')\n",
        "conn.commit()\n",
        " \n",
        "cur.execute('''SELECT * FROM category''')\n",
        "rows = cur.fetchall()\n",
        " \n",
        "for row in rows:\n",
        "    print(row)\n",
        " \n",
        "conn.close()"
      ],
      "execution_count": null,
      "outputs": [
        {
          "output_type": "stream",
          "text": [
            "ERROR:root:An unexpected error occurred while tokenizing input\n",
            "The following traceback may be corrupted or invalid\n",
            "The error message is: ('EOF in multi-line string', (11, 37))\n",
            "\n"
          ],
          "name": "stderr"
        },
        {
          "output_type": "error",
          "ename": "OperationalError",
          "evalue": "ignored",
          "traceback": [
            "\u001b[0;31m---------------------------------------------------------------------------\u001b[0m",
            "\u001b[0;31mOperationalError\u001b[0m                          Traceback (most recent call last)",
            "\u001b[0;32m<ipython-input-8-71cd29d2c9fe>\u001b[0m in \u001b[0;36m<module>\u001b[0;34m()\u001b[0m\n\u001b[1;32m      9\u001b[0m     \u001b[0mcategory_name\u001b[0m \u001b[0mTEXT\u001b[0m    \u001b[0mNOT\u001b[0m \u001b[0mNULL\u001b[0m\u001b[0;34m,\u001b[0m\u001b[0;34m\u001b[0m\u001b[0;34m\u001b[0m\u001b[0m\n\u001b[1;32m     10\u001b[0m     \u001b[0mPRIMARY\u001b[0m \u001b[0mKEY\u001b[0m \u001b[0;34m(\u001b[0m\u001b[0mcategory_id\u001b[0m\u001b[0;34m)\u001b[0m\u001b[0;34m\u001b[0m\u001b[0;34m\u001b[0m\u001b[0m\n\u001b[0;32m---> 11\u001b[0;31m )''')\n\u001b[0m\u001b[1;32m     12\u001b[0m \u001b[0;34m\u001b[0m\u001b[0m\n\u001b[1;32m     13\u001b[0m \u001b[0mcur\u001b[0m\u001b[0;34m.\u001b[0m\u001b[0mexecute\u001b[0m\u001b[0;34m(\u001b[0m\u001b[0;34m'''INSERT INTO category (category_name) VALUES ('technology')'''\u001b[0m\u001b[0;34m)\u001b[0m\u001b[0;34m\u001b[0m\u001b[0;34m\u001b[0m\u001b[0m\n",
            "\u001b[0;31mOperationalError\u001b[0m: table category already exists"
          ]
        }
      ]
    },
    {
      "cell_type": "code",
      "metadata": {
        "id": "TD5s46jbgQeB"
      },
      "source": [
        "def generate_sql(table_name,col_names):\n",
        "  return f'CREATE TABLE {table_name} (' + ', '.join(col_names) + ')'"
      ],
      "execution_count": null,
      "outputs": []
    },
    {
      "cell_type": "code",
      "metadata": {
        "id": "u3TeA8OIgVFb"
      },
      "source": [
        "import sqlite3\n",
        "def generate_sql(table_name,col_names, constraints):\n",
        "  cols = [\" \".join((col, constraint)).strip()\n",
        "    for col, constraint in zip(col_names, constraints)]\n",
        "  return f'CREATE TABLE {table_name} (' + ', '.join(cols) + ')'"
      ],
      "execution_count": null,
      "outputs": []
    },
    {
      "cell_type": "code",
      "metadata": {
        "id": "hOrTJJOsgV9k"
      },
      "source": [
        "def generate_sql(table_name, col_names, constraints):\n",
        "    cols = [\" \".join((col, constraint)).strip()\n",
        "            for col, constraint in zip(col_names, constraints)]\n",
        "    return f'CREATE TABLE {table_name} (\\n\\t' + ',\\n\\t'.join(cols) + '\\n)'"
      ],
      "execution_count": null,
      "outputs": []
    },
    {
      "cell_type": "markdown",
      "metadata": {
        "id": "Yyf1VC03qXLX"
      },
      "source": [
        "#Q 41 SQL"
      ]
    },
    {
      "cell_type": "code",
      "metadata": {
        "colab": {
          "base_uri": "https://localhost:8080/"
        },
        "id": "aZrMml6lqaa4",
        "outputId": "4bd5259a-b36f-46de-babb-9d86d6abbef0"
      },
      "source": [
        "import csv\n",
        "import sqlite3\n",
        "\n",
        "\n",
        "product_constraints = [\n",
        "    'INTEGER PRIMARY KEY',\n",
        "    'TEXT NOT NULL',\n",
        "    'INTEGER NOT NULL',\n",
        "    'INTEGER NOT NULL',\n",
        "    'TEXT NOT NULL',\n",
        "    'REAL NOT NULL',\n",
        "    'INTEGER NOT NULL',\n",
        "    'INTEGER NOT NULL',\n",
        "    'INTEGER NOT NULL',\n",
        "    'INTEGER NOT NULL'\n",
        "]\n",
        "\n",
        "\n",
        "def generate_sql(table_name, col_names, constraints):\n",
        "    cols = [\" \".join((col, constraint)).strip()\n",
        "            for col, constraint in zip(col_names, constraints)]\n",
        "    return f'CREATE TABLE {table_name} (' + ', '.join(cols) + ')'\n",
        "\n",
        "\n",
        "# Read csv file\n",
        "with open('Product.csv','r',encoding='utf-8') as file:\n",
        "  reader = csv.reader(file,delimiter=',')\n",
        "  columns = next(reader)\n",
        "  rows = tuple(reader)\n",
        "#Create sql table\n",
        "sql_create_table = generate_sql('Product',columns,product_constraints)\n",
        "\n",
        "# Create a DB connection\n",
        "conn = sqlite3.connect('store.db')\n",
        "cur = conn.cursor()\n",
        "\n",
        "#Create product table\n",
        "cur.execute(sql_create_table)\n",
        "cur.executemany('''INSERT INTO Product VALUES (?, ?, ?, ?, ?, ?, ?, ?, ?, ?)''', rows)\n",
        "conn.commit()\n",
        "\n",
        "#Select number of rows\n",
        "cur.execute('''SELECT COUNT(*) FROM Product''')\n",
        "total_rows = cur.fetchall()[0][0]\n",
        "print(total_rows)\n",
        "\n",
        "conn.close()"
      ],
      "execution_count": null,
      "outputs": [
        {
          "output_type": "stream",
          "text": [
            "77\n"
          ],
          "name": "stdout"
        }
      ]
    },
    {
      "cell_type": "markdown",
      "metadata": {
        "id": "LdH_Hd-tcgQk"
      },
      "source": [
        "#CSV Module"
      ]
    },
    {
      "cell_type": "code",
      "metadata": {
        "colab": {
          "base_uri": "https://localhost:8080/"
        },
        "id": "loTY7FR1bZYe",
        "outputId": "051f882e-17eb-43b2-c14d-2201e500d940"
      },
      "source": [
        "import csv\n",
        "with open('Customer.csv','r',encoding='utf-8') as file:\n",
        "  reader = csv.reader(file, delimiter = ',')\n",
        "  columns = next(reader)\n",
        "  rows = tuple(reader)\n",
        "#Extract index fir Country coumn\n",
        "country_idx = columns.index('Country')\n",
        "#Extract all country names\n",
        "countries = [row[country_idx] for row in rows]\n",
        "#Sort unique countries\n",
        "unique_countries = sorted(set(countries))\n",
        "print(unique_countries)"
      ],
      "execution_count": null,
      "outputs": [
        {
          "output_type": "stream",
          "text": [
            "['Argentina', 'Austria', 'Belgium', 'Brazil', 'Canada', 'Denmark', 'Finland', 'France', 'Germany', 'Ireland', 'Italy', 'Mexico', 'Norway', 'Poland', 'Portugal', 'Spain', 'Sweden', 'Switzerland', 'UK', 'USA', 'Venezuela']\n"
          ],
          "name": "stdout"
        }
      ]
    },
    {
      "cell_type": "markdown",
      "metadata": {
        "id": "yznnukpifpBd"
      },
      "source": [
        "#CSV module"
      ]
    },
    {
      "cell_type": "code",
      "metadata": {
        "colab": {
          "base_uri": "https://localhost:8080/"
        },
        "id": "SFtuaneFflNp",
        "outputId": "44cc4571-8ee9-41ef-e707-ead1550ed077"
      },
      "source": [
        "import csv\n",
        " \n",
        " \n",
        "# Empty dict to store data\n",
        "data_dict = {}\n",
        " \n",
        "# Read csv file\n",
        "with open('Customer.csv', 'r', encoding='utf-8') as file:\n",
        "    reader = csv.DictReader(file, delimiter=',')\n",
        " \n",
        "    # Convert each row into dict\n",
        "    for row in reader:\n",
        "        key = row['Id']\n",
        "        del row['Id']\n",
        "        data_dict[key] = row\n",
        "print(data_dict['BOLID'])"
      ],
      "execution_count": null,
      "outputs": [
        {
          "output_type": "stream",
          "text": [
            "OrderedDict([('CompanyName', 'Bólido Comidas preparadas'), ('ContactName', 'Martín Sommer'), ('ContactTitle', 'Owner'), ('Address', 'C/ Araquil, 67'), ('City', 'Madrid'), ('Region', 'Southern Europe'), ('PostalCode', '28023'), ('Country', 'Spain'), ('Phone', '(91) 555 22 82'), ('Fax', '(91) 555 91 99')])\n"
          ],
          "name": "stdout"
        }
      ]
    },
    {
      "cell_type": "markdown",
      "metadata": {
        "id": "_EAeixiSjAkM"
      },
      "source": [
        "#Csv to json"
      ]
    },
    {
      "cell_type": "code",
      "metadata": {
        "id": "8so5TAjVjBqU"
      },
      "source": [
        "import csv\n",
        "import json\n",
        "\n",
        "# Empty dict to store data\n",
        "data_dict = {}\n",
        " \n",
        "# Read csv file\n",
        "with open('Customer.csv', 'r', encoding='utf-8') as file:\n",
        "    reader = csv.DictReader(file, delimiter=',')\n",
        " \n",
        "    # Convert each row into dict\n",
        "    for row in reader:\n",
        "        key = row['Id']\n",
        "        del row['Id']\n",
        "        data_dict[key] = row\n",
        "\n",
        "#Write JSON to file\n",
        "with open('Customer.json','w',encoding='utf-8') as file:\n",
        "  file.write(json.dumps(data_dict, indent=4))"
      ],
      "execution_count": null,
      "outputs": []
    },
    {
      "cell_type": "markdown",
      "metadata": {
        "id": "KAY4vZsyRbsX"
      },
      "source": [
        "# Levenstein Distance"
      ]
    },
    {
      "cell_type": "code",
      "metadata": {
        "id": "FkRNeGNDRddo"
      },
      "source": [
        "def lev(a, b):\n",
        "\n",
        "  if len(b) == 0:\n",
        "    return len(a)\n",
        "  if len(a) == 0:\n",
        "    return len(b)\n",
        "  if a[0] == b[0]:\n",
        "    return lev(a[1:],b[1:])\n",
        "  residual = 1 + min(lev(a[1:],b), lev(a, b[1:]), lev(a[1:], b[1:]))\n",
        "  return residual"
      ],
      "execution_count": null,
      "outputs": []
    },
    {
      "cell_type": "code",
      "metadata": {
        "colab": {
          "base_uri": "https://localhost:8080/"
        },
        "id": "a5lS0HzJWZbt",
        "outputId": "c334afea-34fb-468a-b4f0-22a7b2730702"
      },
      "source": [
        "lev('python','pythos')"
      ],
      "execution_count": null,
      "outputs": [
        {
          "output_type": "execute_result",
          "data": {
            "text/plain": [
              "1"
            ]
          },
          "metadata": {
            "tags": []
          },
          "execution_count": 7
        }
      ]
    },
    {
      "cell_type": "code",
      "metadata": {
        "id": "VO9_DL1qWcW0"
      },
      "source": [
        ""
      ],
      "execution_count": null,
      "outputs": []
    },
    {
      "cell_type": "markdown",
      "metadata": {
        "id": "laq0SWn1XJf7"
      },
      "source": [
        "# Levenstain distance similar words"
      ]
    },
    {
      "cell_type": "code",
      "metadata": {
        "id": "1QwVAdqsXOML"
      },
      "source": [
        "def lev(a, b):\n",
        "\n",
        "  if len(b) == 0:\n",
        "    return len(a)\n",
        "  if len(a) == 0:\n",
        "    return len(b)\n",
        "  if a[0] == b[0]:\n",
        "    return lev(a[1:],b[1:])\n",
        "  residual = 1 + min(lev(a[1:],b), lev(a, b[1:]), lev(a[1:], b[1:]))\n",
        "  return residual\n",
        "words = [\n",
        "    'friend',\n",
        "    'friends',\n",
        "    'friendship',\n",
        "    'fry',\n",
        "    'data',\n",
        "    'database',\n",
        "    'data science',\n",
        "    'big data',\n",
        "    'data cleaning',\n",
        "    'database',\n",
        "    'date'\n",
        "]\n",
        "def get_similar(term):\n",
        "  levenshtein = {word: lev(term, word) for word in words}\n",
        "  results = sorted(levenshtein.items(), key=lambda item: item[1])\n",
        "  return results[:5]\n"
      ],
      "execution_count": null,
      "outputs": []
    },
    {
      "cell_type": "markdown",
      "metadata": {
        "id": "rPCvCGXIbxsc"
      },
      "source": [
        "#Szyfr cezara"
      ]
    },
    {
      "cell_type": "code",
      "metadata": {
        "id": "PoJWIJ9Gby_H"
      },
      "source": [
        "import string\n",
        "def generate_cipher(alphabet, key=2):\n",
        "  cipher = ''\n",
        "  for letter in alphabet:\n",
        "    new_idx = (alphabet.index(letter) + key) % len(alphabet)\n",
        "    cipher += alphabet[new_idx]\n",
        "  return cipher"
      ],
      "execution_count": null,
      "outputs": []
    },
    {
      "cell_type": "code",
      "metadata": {
        "colab": {
          "base_uri": "https://localhost:8080/",
          "height": 35
        },
        "id": "jThVcUQSb0ki",
        "outputId": "343caa95-2799-474b-f53f-eb33d6ac6adb"
      },
      "source": [
        "generate_cipher(string.ascii_uppercase,10)"
      ],
      "execution_count": null,
      "outputs": [
        {
          "output_type": "execute_result",
          "data": {
            "application/vnd.google.colaboratory.intrinsic+json": {
              "type": "string"
            },
            "text/plain": [
              "'KLMNOPQRSTUVWXYZABCDEFGHIJ'"
            ]
          },
          "metadata": {
            "tags": []
          },
          "execution_count": 21
        }
      ]
    },
    {
      "cell_type": "code",
      "metadata": {
        "id": "IaIaGz9_fJjC"
      },
      "source": [
        "import string\n",
        "def generate_cipher(alphabet, key=2):\n",
        "  cipher = ''\n",
        "  for letter in alphabet:\n",
        "    new_idx = (alphabet.index(letter) + key) % len(alphabet)\n",
        "    cipher += alphabet[new_idx]\n",
        "  return cipher\n",
        "def encrypt(alphabet, message, key):\n",
        "  cipher = generate_cipher(alphabet,key)\n",
        "  result = ''\n",
        "  for letter in message:\n",
        "    if letter not in alphabet:\n",
        "      result += letter\n",
        "    else:\n",
        "      result += cipher[alphabet.index(letter)]\n",
        "  return result"
      ],
      "execution_count": null,
      "outputs": []
    },
    {
      "cell_type": "code",
      "metadata": {
        "colab": {
          "base_uri": "https://localhost:8080/",
          "height": 35
        },
        "id": "SjkT-aGogZjv",
        "outputId": "123c394f-e2eb-4c5f-cf31-17d85f19b028"
      },
      "source": [
        "encrypt(string.ascii_uppercase,'PYTHON',3)"
      ],
      "execution_count": null,
      "outputs": [
        {
          "output_type": "execute_result",
          "data": {
            "application/vnd.google.colaboratory.intrinsic+json": {
              "type": "string"
            },
            "text/plain": [
              "'SBWKRQ'"
            ]
          },
          "metadata": {
            "tags": []
          },
          "execution_count": 23
        }
      ]
    },
    {
      "cell_type": "code",
      "metadata": {
        "id": "4SgrB89phCBx"
      },
      "source": [
        "import string\n",
        "def generate_cipher(alphabet, key=2):\n",
        "  cipher = ''\n",
        "  for letter in alphabet:\n",
        "    new_idx = (alphabet.index(letter) + key) % len(alphabet)\n",
        "    cipher += alphabet[new_idx]\n",
        "  return cipher\n",
        "def encrypt(alphabet, message, key):\n",
        "  cipher = generate_cipher(alphabet,key)\n",
        "  result = ''\n",
        "  for letter in message:\n",
        "    if letter not in alphabet:\n",
        "      result += letter\n",
        "    else:\n",
        "      result += cipher[alphabet.index(letter)]\n",
        "  return result\n",
        "def decrypt(alphabet,message,key):\n",
        "  key = -key\n",
        "  return encrypt(alphabet, message, key)"
      ],
      "execution_count": null,
      "outputs": []
    },
    {
      "cell_type": "code",
      "metadata": {
        "colab": {
          "base_uri": "https://localhost:8080/",
          "height": 35
        },
        "id": "_KL6wHwciJpn",
        "outputId": "3885dd7c-d5c7-413d-b8e4-c921b439d337"
      },
      "source": [
        "decrypt(string.ascii_uppercase,'SBWKRQ',3)"
      ],
      "execution_count": null,
      "outputs": [
        {
          "output_type": "execute_result",
          "data": {
            "application/vnd.google.colaboratory.intrinsic+json": {
              "type": "string"
            },
            "text/plain": [
              "'PYTHON'"
            ]
          },
          "metadata": {
            "tags": []
          },
          "execution_count": 27
        }
      ]
    },
    {
      "cell_type": "markdown",
      "metadata": {
        "id": "LqMtSw5RkI7t"
      },
      "source": [
        "# Ceasar cipher class"
      ]
    },
    {
      "cell_type": "code",
      "metadata": {
        "id": "DcnBsEEwkMQ1"
      },
      "source": [
        "class CaesarCipher:\n",
        "  def __init__(self,alphabet,key):\n",
        "    self.alphabet = alphabet\n",
        "    self.key = key\n",
        "  @property\n",
        "  def cipher(self):\n",
        "    result=''\n",
        "    for letter in self.alphabet:\n",
        "      new_idx = (self.alphabet.index(letter) + self.key) % len(self.alphabet)\n",
        "      result += self.alphabet[new_idx]\n",
        "    return result"
      ],
      "execution_count": null,
      "outputs": []
    },
    {
      "cell_type": "code",
      "metadata": {
        "id": "6JKME2-Vk5FT"
      },
      "source": [
        "cc = CaesarCipher(string.ascii_uppercase,2)"
      ],
      "execution_count": null,
      "outputs": []
    },
    {
      "cell_type": "code",
      "metadata": {
        "colab": {
          "base_uri": "https://localhost:8080/",
          "height": 35
        },
        "id": "AjhV-z6UlIMO",
        "outputId": "4baee22a-6878-4388-c1e2-aeddf0dec20e"
      },
      "source": [
        "cc.cipher"
      ],
      "execution_count": null,
      "outputs": [
        {
          "output_type": "execute_result",
          "data": {
            "application/vnd.google.colaboratory.intrinsic+json": {
              "type": "string"
            },
            "text/plain": [
              "'CDEFGHIJKLMNOPQRSTUVWXYZAB'"
            ]
          },
          "metadata": {
            "tags": []
          },
          "execution_count": 13
        }
      ]
    },
    {
      "cell_type": "code",
      "metadata": {
        "id": "CFIYu4RBlM7b"
      },
      "source": [
        "class CaesarCipher:\n",
        "  def __init__(self,alphabet,key):\n",
        "    self.alphabet = alphabet\n",
        "    self.key = key\n",
        "  @property\n",
        "  def cipher(self):\n",
        "    result=''\n",
        "    for letter in self.alphabet:\n",
        "      new_idx = (self.alphabet.index(letter) + self.key) % len(self.alphabet)\n",
        "      result += self.alphabet[new_idx]\n",
        "    return result\n",
        "  def encrypt(self, message):\n",
        "    result = ''\n",
        "    for letter in message:\n",
        "      if letter not in self.alphabet:\n",
        "        result += letter\n",
        "      else:\n",
        "        result += self.cipher[self.alphabet.index(letter)]\n",
        "    return result\n",
        "  def decrypt(self, message):\n",
        "    result = ''\n",
        "    for letter in message:\n",
        "      if letter not in self.alphabet:\n",
        "        result += letter\n",
        "      else:\n",
        "        result += self.alphabet[self.cipher.index(letter)]\n",
        "    return result"
      ],
      "execution_count": null,
      "outputs": []
    },
    {
      "cell_type": "code",
      "metadata": {
        "id": "QO4dq734oJN1"
      },
      "source": [
        "cc = CaesarCipher(string.ascii_uppercase,2)"
      ],
      "execution_count": null,
      "outputs": []
    },
    {
      "cell_type": "code",
      "metadata": {
        "colab": {
          "base_uri": "https://localhost:8080/",
          "height": 35
        },
        "id": "C-0jz2CEoMJ1",
        "outputId": "c4accb0a-6831-4dee-d66e-c5e22993acec"
      },
      "source": [
        "cc.encrypt('python')"
      ],
      "execution_count": null,
      "outputs": [
        {
          "output_type": "execute_result",
          "data": {
            "application/vnd.google.colaboratory.intrinsic+json": {
              "type": "string"
            },
            "text/plain": [
              "'python'"
            ]
          },
          "metadata": {
            "tags": []
          },
          "execution_count": 16
        }
      ]
    },
    {
      "cell_type": "code",
      "metadata": {
        "colab": {
          "base_uri": "https://localhost:8080/",
          "height": 35
        },
        "id": "ouxfv2rioPQY",
        "outputId": "a804048e-7dc6-4762-d09d-f2e6ca6b86e5"
      },
      "source": [
        "cc.cipher"
      ],
      "execution_count": null,
      "outputs": [
        {
          "output_type": "execute_result",
          "data": {
            "application/vnd.google.colaboratory.intrinsic+json": {
              "type": "string"
            },
            "text/plain": [
              "'CDEFGHIJKLMNOPQRSTUVWXYZAB'"
            ]
          },
          "metadata": {
            "tags": []
          },
          "execution_count": 17
        }
      ]
    },
    {
      "cell_type": "code",
      "metadata": {
        "colab": {
          "base_uri": "https://localhost:8080/",
          "height": 35
        },
        "id": "bAePD2mgoc_N",
        "outputId": "1faf529e-d567-407c-b2cf-a849fed632a6"
      },
      "source": [
        "cc.encrypt('PYHTON')"
      ],
      "execution_count": null,
      "outputs": [
        {
          "output_type": "execute_result",
          "data": {
            "application/vnd.google.colaboratory.intrinsic+json": {
              "type": "string"
            },
            "text/plain": [
              "'RAJVQP'"
            ]
          },
          "metadata": {
            "tags": []
          },
          "execution_count": 18
        }
      ]
    },
    {
      "cell_type": "code",
      "metadata": {
        "colab": {
          "base_uri": "https://localhost:8080/",
          "height": 35
        },
        "id": "XKbkqmfrofrC",
        "outputId": "488d184c-3da2-4659-b6de-8bcd17f4c15a"
      },
      "source": [
        "cc.decrypt('RAJVQP')"
      ],
      "execution_count": null,
      "outputs": [
        {
          "output_type": "execute_result",
          "data": {
            "application/vnd.google.colaboratory.intrinsic+json": {
              "type": "string"
            },
            "text/plain": [
              "'PYHTON'"
            ]
          },
          "metadata": {
            "tags": []
          },
          "execution_count": 19
        }
      ]
    },
    {
      "cell_type": "markdown",
      "metadata": {
        "id": "4EOdiac2s5lx"
      },
      "source": [
        "#Morse Code"
      ]
    },
    {
      "cell_type": "code",
      "metadata": {
        "id": "GdnwR0dxoi4e"
      },
      "source": [
        "MORSE_CODE = {\n",
        "    'A': '.-',\n",
        "    'B': '-...',\n",
        "    'C': '-.-.',\n",
        "    'D': '-..',\n",
        "    'E': '.',\n",
        "    'F': '..-.',\n",
        "    'G': '--.',\n",
        "    'H': '....',\n",
        "    'I': '..',\n",
        "    'J': '.---',\n",
        "    'K': '-.-',\n",
        "    'L': '.-..',\n",
        "    'M': '--',\n",
        "    'N': '-.',\n",
        "    'O': '---',\n",
        "    'P': '.--.',\n",
        "    'Q': '--.-',\n",
        "    'R': '.-.',\n",
        "    'S': '...',\n",
        "    'T': '-',\n",
        "    'U': '..-',\n",
        "    'V': '...-',\n",
        "    'W': '.--',\n",
        "    'X': '-..-',\n",
        "    'Y': '-.--',\n",
        "    'Z': '--..',\n",
        "    '1': '.----',\n",
        "    '2': '..---',\n",
        "    '3': '...--',\n",
        "    '4': '....-',\n",
        "    '5': '.....',\n",
        "    '6': '-....',\n",
        "    '7': '--...',\n",
        "    '8': '---..',\n",
        "    '9': '----.',\n",
        "    '0': '-----',\n",
        "    '&': '.-...',\n",
        "    '@': '.--.-.',\n",
        "    ':': '---...',\n",
        "    ',': '--..--',\n",
        "    '.': '.-.-.-',\n",
        "    ''': '.----.',\n",
        "    ''': '.-..-.',\n",
        "    '?': '..--..',\n",
        "    '/': '-..-.',\n",
        "    '=': '-...-',\n",
        "    '+': '.-.-.',\n",
        "    '-': '-....-',\n",
        "    '(': '-.--.',\n",
        "    ')': '-.--.-',\n",
        "    '!': '-.-.--',\n",
        "}\n",
        "\n",
        "def encrypt(message):\n",
        "  cipher = ''\n",
        "  for char in message:\n",
        "    char = char.upper()\n",
        "    if char != ' ':\n",
        "      cipher += MORSE_CODE[char] + ' '\n",
        "    else:\n",
        "      cipher += '/ '\n",
        "  return cipher[:-1]\n"
      ],
      "execution_count": null,
      "outputs": []
    },
    {
      "cell_type": "code",
      "metadata": {
        "colab": {
          "base_uri": "https://localhost:8080/",
          "height": 35
        },
        "id": "lfzP_-BCvqaP",
        "outputId": "12a03bc0-2efd-4ff3-c988-ff064077ad3b"
      },
      "source": [
        "encrypt('Python is a great tool')"
      ],
      "execution_count": null,
      "outputs": [
        {
          "output_type": "execute_result",
          "data": {
            "application/vnd.google.colaboratory.intrinsic+json": {
              "type": "string"
            },
            "text/plain": [
              "'.--. -.-- - .... --- -. / .. ... / .- / --. .-. . .- - / - --- --- .-..'"
            ]
          },
          "metadata": {
            "tags": []
          },
          "execution_count": 31
        }
      ]
    },
    {
      "cell_type": "markdown",
      "metadata": {
        "id": "HiwgL4kUwWdA"
      },
      "source": [
        "#Morse encrypt + decrypt"
      ]
    },
    {
      "cell_type": "code",
      "metadata": {
        "id": "jcPBJPzQvwkZ"
      },
      "source": [
        "MORSE_CODE = {\n",
        "    'A': '.-',\n",
        "    'B': '-...',\n",
        "    'C': '-.-.',\n",
        "    'D': '-..',\n",
        "    'E': '.',\n",
        "    'F': '..-.',\n",
        "    'G': '--.',\n",
        "    'H': '....',\n",
        "    'I': '..',\n",
        "    'J': '.---',\n",
        "    'K': '-.-',\n",
        "    'L': '.-..',\n",
        "    'M': '--',\n",
        "    'N': '-.',\n",
        "    'O': '---',\n",
        "    'P': '.--.',\n",
        "    'Q': '--.-',\n",
        "    'R': '.-.',\n",
        "    'S': '...',\n",
        "    'T': '-',\n",
        "    'U': '..-',\n",
        "    'V': '...-',\n",
        "    'W': '.--',\n",
        "    'X': '-..-',\n",
        "    'Y': '-.--',\n",
        "    'Z': '--..',\n",
        "    '1': '.----',\n",
        "    '2': '..---',\n",
        "    '3': '...--',\n",
        "    '4': '....-',\n",
        "    '5': '.....',\n",
        "    '6': '-....',\n",
        "    '7': '--...',\n",
        "    '8': '---..',\n",
        "    '9': '----.',\n",
        "    '0': '-----',\n",
        "    '&': '.-...',\n",
        "    '@': '.--.-.',\n",
        "    ':': '---...',\n",
        "    ',': '--..--',\n",
        "    '.': '.-.-.-',\n",
        "    ''': '.----.',\n",
        "    ''': '.-..-.',\n",
        "    '?': '..--..',\n",
        "    '/': '-..-.',\n",
        "    '=': '-...-',\n",
        "    '+': '.-.-.',\n",
        "    '-': '-....-',\n",
        "    '(': '-.--.',\n",
        "    ')': '-.--.-',\n",
        "    '!': '-.-.--',\n",
        "}\n",
        "MORSE_CODE_REVERSED = {val: key for key, val in MORSE_CODE.items()}\n",
        "\n",
        "def encrypt(message):\n",
        "    return ' '.join([MORSE_CODE[char.upper()] if char != ' ' else '/' for char in message])\n",
        "def decrypt(message):\n",
        "  decipher = ''\n",
        "  for char in message.split():\n",
        "    if char != '/':\n",
        "      decipher += MORSE_CODE_REVERSED[char]\n",
        "    else:\n",
        "      decipher += ' '\n",
        "  return decipher"
      ],
      "execution_count": null,
      "outputs": []
    },
    {
      "cell_type": "code",
      "metadata": {
        "colab": {
          "base_uri": "https://localhost:8080/",
          "height": 35
        },
        "id": "xhllEt0uwrs4",
        "outputId": "c2322066-7227-42e2-8007-5ee006cdc8d4"
      },
      "source": [
        "decrypt('.--. -.-- - .... --- -. / .. ... / .- / --. .-. . .- - / - --- --- .-..')"
      ],
      "execution_count": null,
      "outputs": [
        {
          "output_type": "execute_result",
          "data": {
            "application/vnd.google.colaboratory.intrinsic+json": {
              "type": "string"
            },
            "text/plain": [
              "'PYTHON IS A GREAT TOOL'"
            ]
          },
          "metadata": {
            "tags": []
          },
          "execution_count": 32
        }
      ]
    },
    {
      "cell_type": "markdown",
      "metadata": {
        "id": "lozDbXB9y3Xc"
      },
      "source": [
        "# Python OOP Morse class"
      ]
    },
    {
      "cell_type": "code",
      "metadata": {
        "id": "ErcKpDNGy6ZO"
      },
      "source": [
        "MORSE_CODE = {\n",
        "    'A': '.-',\n",
        "    'B': '-...',\n",
        "    'C': '-.-.',\n",
        "    'D': '-..',\n",
        "    'E': '.',\n",
        "    'F': '..-.',\n",
        "    'G': '--.',\n",
        "    'H': '....',\n",
        "    'I': '..',\n",
        "    'J': '.---',\n",
        "    'K': '-.-',\n",
        "    'L': '.-..',\n",
        "    'M': '--',\n",
        "    'N': '-.',\n",
        "    'O': '---',\n",
        "    'P': '.--.',\n",
        "    'Q': '--.-',\n",
        "    'R': '.-.',\n",
        "    'S': '...',\n",
        "    'T': '-',\n",
        "    'U': '..-',\n",
        "    'V': '...-',\n",
        "    'W': '.--',\n",
        "    'X': '-..-',\n",
        "    'Y': '-.--',\n",
        "    'Z': '--..',\n",
        "    '1': '.----',\n",
        "    '2': '..---',\n",
        "    '3': '...--',\n",
        "    '4': '....-',\n",
        "    '5': '.....',\n",
        "    '6': '-....',\n",
        "    '7': '--...',\n",
        "    '8': '---..',\n",
        "    '9': '----.',\n",
        "    '0': '-----',\n",
        "    '&': '.-...',\n",
        "    '@': '.--.-.',\n",
        "    ':': '---...',\n",
        "    ',': '--..--',\n",
        "    '.': '.-.-.-',\n",
        "    ''': '.----.',\n",
        "    ''': '.-..-.',\n",
        "    '?': '..--..',\n",
        "    '/': '-..-.',\n",
        "    '=': '-...-',\n",
        "    '+': '.-.-.',\n",
        "    '-': '-....-',\n",
        "    '(': '-.--.',\n",
        "    ')': '-.--.-',\n",
        "    '!': '-.-.--',\n",
        "}\n",
        "MORSE_CODE_REVERSED = {val: key for key, val in MORSE_CODE.items()}\n",
        "class MorseCode:\n",
        "  @staticmethod\n",
        "  def encrypt(message):\n",
        "    return ' '.join([MORSE_CODE[char.upper()] if char != ' ' else '/' for char in message])\n",
        "  def decrypt(message):\n",
        "    return ''.join([MORSE_CODE_REVERSED[char] if char != '/' else ' ' for char in message.split()])\n"
      ],
      "execution_count": null,
      "outputs": []
    },
    {
      "cell_type": "code",
      "metadata": {
        "colab": {
          "base_uri": "https://localhost:8080/",
          "height": 35
        },
        "id": "jRCNQxRZz2QK",
        "outputId": "596a8933-abec-403b-e0c4-2de8c71c369c"
      },
      "source": [
        "MorseCode.encrypt('Python is great')"
      ],
      "execution_count": null,
      "outputs": [
        {
          "output_type": "execute_result",
          "data": {
            "application/vnd.google.colaboratory.intrinsic+json": {
              "type": "string"
            },
            "text/plain": [
              "'.--. -.-- - .... --- -. / .. ... / --. .-. . .- -'"
            ]
          },
          "metadata": {
            "tags": []
          },
          "execution_count": 41
        }
      ]
    },
    {
      "cell_type": "code",
      "metadata": {
        "colab": {
          "base_uri": "https://localhost:8080/",
          "height": 35
        },
        "id": "RR77k2e-z5vT",
        "outputId": "644b7ee3-a808-4a47-dbe9-c57ea778b799"
      },
      "source": [
        "MorseCode.decrypt('.--. -.-- - .... --- -. / .. ... / --. .-. . .- -')"
      ],
      "execution_count": null,
      "outputs": [
        {
          "output_type": "execute_result",
          "data": {
            "application/vnd.google.colaboratory.intrinsic+json": {
              "type": "string"
            },
            "text/plain": [
              "'PYTHON IS GREAT'"
            ]
          },
          "metadata": {
            "tags": []
          },
          "execution_count": 42
        }
      ]
    },
    {
      "cell_type": "markdown",
      "metadata": {
        "id": "nSDVVPN1Mamv"
      },
      "source": [
        "# Monte Carlo "
      ]
    },
    {
      "cell_type": "code",
      "metadata": {
        "colab": {
          "base_uri": "https://localhost:8080/"
        },
        "id": "NzdjtmqX0RIq",
        "outputId": "fdc16cf1-b45f-40fd-910f-9c155d4f21e8"
      },
      "source": [
        "import random\n",
        "\n",
        "random.seed(20)\n",
        "def generate_random_point():\n",
        "  return random.uniform(-1, 1), random.uniform(-1, 1)\n",
        "def is_in_unit_circle(point):\n",
        "  return point[0] ** 2 + point[1] ** 2 <= 1\n",
        "points = [generate_random_point() for _ in range(15)]\n",
        "flags = [is_in_unit_circle(point) for point in points]\n",
        "print(flags)"
      ],
      "execution_count": null,
      "outputs": [
        {
          "output_type": "stream",
          "text": [
            "[True, True, True, False, True, False, True, True, True, True, True, True, True, False, True]\n"
          ],
          "name": "stdout"
        }
      ]
    },
    {
      "cell_type": "code",
      "metadata": {
        "colab": {
          "base_uri": "https://localhost:8080/"
        },
        "id": "CvEAbXVdOSiL",
        "outputId": "4c3f6e45-ab16-45ae-82c9-eb742546d524"
      },
      "source": [
        "generate_random_point()"
      ],
      "execution_count": null,
      "outputs": [
        {
          "output_type": "execute_result",
          "data": {
            "text/plain": [
              "(-0.28105574197940886, -0.29998589465972314)"
            ]
          },
          "metadata": {
            "tags": []
          },
          "execution_count": 47
        }
      ]
    },
    {
      "cell_type": "markdown",
      "metadata": {
        "id": "98NCeYtDZEhF"
      },
      "source": [
        "# Pi Monte Carlo"
      ]
    },
    {
      "cell_type": "code",
      "metadata": {
        "colab": {
          "base_uri": "https://localhost:8080/"
        },
        "id": "fenBDtmJOlxW",
        "outputId": "420b8e72-53f0-4f1d-e7e9-d1fc922d7e67"
      },
      "source": [
        "import random\n",
        "\n",
        "random.seed(20)\n",
        "def generate_random_point():\n",
        "  return random.uniform(-1, 1), random.uniform(-1, 1)\n",
        "def is_in_unit_circle(point):\n",
        "  return point[0] ** 2 + point[1] ** 2 <= 1\n",
        "points = [generate_random_point() for _ in range(15)]\n",
        "flags = [is_in_unit_circle(point) for point in points]\n",
        "print(flags)\n",
        "def estimate(simulations):\n",
        "  points_in_circle = 0\n",
        "\n",
        "  for _ in range(simulations):\n",
        "    point = generate_random_point()\n",
        "\n",
        "    if is_in_unit_circle(point):\n",
        "      points_in_circle += 1\n",
        "    results = 4 * points_in_circle / simulations\n",
        "  return results"
      ],
      "execution_count": null,
      "outputs": [
        {
          "output_type": "stream",
          "text": [
            "[True, True, True, False, True, False, True, True, True, True, True, True, True, False, True]\n"
          ],
          "name": "stdout"
        }
      ]
    },
    {
      "cell_type": "code",
      "metadata": {
        "colab": {
          "base_uri": "https://localhost:8080/"
        },
        "id": "suQTo6RDZv2l",
        "outputId": "400522a9-f18e-4375-82a6-3fbb45d638da"
      },
      "source": [
        "estimate(1021201)"
      ],
      "execution_count": null,
      "outputs": [
        {
          "output_type": "execute_result",
          "data": {
            "text/plain": [
              "3.1432910856922387"
            ]
          },
          "metadata": {
            "tags": []
          },
          "execution_count": 76
        }
      ]
    },
    {
      "cell_type": "code",
      "metadata": {
        "id": "BG2w23BUZzRD"
      },
      "source": [
        "import random\n",
        "random.seed(10)\n",
        "class MonteCarlo:\n",
        "  def __init__(self,simulations):\n",
        "    self.simulations = simulations\n",
        "  @staticmethod\n",
        "  def generate_random_point():\n",
        "    return random.uniform(-1, 1), random.uniform(-1, 1)\n",
        "  @staticmethod\n",
        "  def is_in_unit_circle(point):\n",
        "    return point[0] ** 2 + point[1] ** 2 <= 1\n",
        "  def estimate(self):\n",
        "    points_in_circle = 0\n",
        "    for _ in range(self.simulations):\n",
        "      point = MonteCarlo.generate_random_point()\n",
        "      if MonteCarlo.is_in_unit_circle(point):\n",
        "        points_in_circle += 1\n",
        "    results = 4 * points_in_circle / self.simulations\n",
        "    return results"
      ],
      "execution_count": null,
      "outputs": []
    },
    {
      "cell_type": "markdown",
      "metadata": {
        "id": "GUx9WurBhEmr"
      },
      "source": [
        "#Decimal to binary"
      ]
    },
    {
      "cell_type": "code",
      "metadata": {
        "id": "MK7j30Ada42x"
      },
      "source": [
        "def decimal_to_binary(number):\n",
        "  if number == 0:\n",
        "    return '0'\n",
        "  result = ''\n",
        "  while number > 0:\n",
        "    result += str(number % 2)\n",
        "    number = number // 2\n",
        "  return result[::-1]\n",
        "def bitwise_and (a, b):\n",
        "  if a < 0 or b < 0:\n",
        "    raise ValueError('The value must be positive.')\n",
        "  a_bin = decimal_to_binary(a)\n",
        "  b_bin = decimal_to_binary(b)\n",
        "\n",
        "  max_length = max(len(a_bin), len(b_bin))\n",
        "\n",
        "  a_zfill = a_bin.zfill(max_length)\n",
        "  b_zfill = b_bin.zfill(max_length)\n",
        "\n",
        "  binary_and = [str(int(char_a == '1' and char_b == '1')) for char_a, char_b in zip(a_zfill,b_zfill)]\n",
        "\n",
        "  binary_result = ''.join(binary_and)\n",
        "  decimal_result = int(binary_result, base=2)\n",
        "\n",
        "  return decimal_result\n"
      ],
      "execution_count": null,
      "outputs": []
    },
    {
      "cell_type": "code",
      "metadata": {
        "colab": {
          "base_uri": "https://localhost:8080/",
          "height": 35
        },
        "id": "afop0zEQhSbW",
        "outputId": "aa4b2395-cbc9-4f6f-94f3-c27e23b776ef"
      },
      "source": [
        "decimal_to_binary(128)"
      ],
      "execution_count": null,
      "outputs": [
        {
          "output_type": "execute_result",
          "data": {
            "application/vnd.google.colaboratory.intrinsic+json": {
              "type": "string"
            },
            "text/plain": [
              "'10000000'"
            ]
          },
          "metadata": {
            "tags": []
          },
          "execution_count": 100
        }
      ]
    },
    {
      "cell_type": "code",
      "metadata": {
        "colab": {
          "base_uri": "https://localhost:8080/"
        },
        "id": "z0lfJcHyiVxn",
        "outputId": "94f79ecc-4f81-4bb3-d9ac-1163e934cd7a"
      },
      "source": [
        "bitwise_and(120,10)"
      ],
      "execution_count": null,
      "outputs": [
        {
          "output_type": "execute_result",
          "data": {
            "text/plain": [
              "8"
            ]
          },
          "metadata": {
            "tags": []
          },
          "execution_count": 108
        }
      ]
    },
    {
      "cell_type": "markdown",
      "metadata": {
        "id": "k44mShNWp3ED"
      },
      "source": [
        "# Bitwise_or"
      ]
    },
    {
      "cell_type": "code",
      "metadata": {
        "id": "_uZj5X1XpZI3"
      },
      "source": [
        "def decimal_to_binary(number):\n",
        "  if number == 0:\n",
        "    return '0'\n",
        "  result = ''\n",
        "  while number > 0:\n",
        "    result += str(number % 2)\n",
        "    number = number // 2\n",
        "  return result[::-1]\n",
        "def bitwise_or (a, b):\n",
        "  if a < 0 or b < 0:\n",
        "    raise ValueError('The value must be positive.')\n",
        "  a_bin = decimal_to_binary(a)\n",
        "  b_bin = decimal_to_binary(b)\n",
        "\n",
        "  max_length = max(len(a_bin), len(b_bin))\n",
        "\n",
        "  a_zfill = a_bin.zfill(max_length)\n",
        "  b_zfill = b_bin.zfill(max_length)\n",
        "\n",
        "  binary_or = [str(int(char_a == '1' or char_b == '1')) for char_a, char_b in zip(a_zfill,b_zfill)]\n",
        "\n",
        "  binary_result = ''.join(binary_or)\n",
        "  decimal_result = int(binary_result, base=2)\n",
        "\n",
        "  return decimal_result\n"
      ],
      "execution_count": null,
      "outputs": []
    },
    {
      "cell_type": "code",
      "metadata": {
        "colab": {
          "base_uri": "https://localhost:8080/"
        },
        "id": "GvxkXb6GuG-t",
        "outputId": "5fc51f91-b41d-4c76-d00e-de448b96701b"
      },
      "source": [
        "bitwise_or(43400,103)"
      ],
      "execution_count": null,
      "outputs": [
        {
          "output_type": "execute_result",
          "data": {
            "text/plain": [
              "43503"
            ]
          },
          "metadata": {
            "tags": []
          },
          "execution_count": 111
        }
      ]
    },
    {
      "cell_type": "markdown",
      "metadata": {
        "id": "__QHmZ15vEUn"
      },
      "source": [
        "# Bitwise XOR"
      ]
    },
    {
      "cell_type": "code",
      "metadata": {
        "id": "77eTaEOVuJIU"
      },
      "source": [
        "def decimal_to_binary(number):\n",
        "  if number == 0:\n",
        "    return '0'\n",
        "  result = ''\n",
        "  while number > 0:\n",
        "    result += str(number % 2)\n",
        "    number = number // 2\n",
        "  return result[::-1]\n",
        "def bitwise_xor (a, b):\n",
        "  if a < 0 or b < 0:\n",
        "    raise ValueError('The value must be positive.')\n",
        "  a_bin = decimal_to_binary(a)\n",
        "  b_bin = decimal_to_binary(b)\n",
        "\n",
        "  max_length = max(len(a_bin), len(b_bin))\n",
        "\n",
        "  a_zfill = a_bin.zfill(max_length)\n",
        "  b_zfill = b_bin.zfill(max_length)\n",
        "\n",
        "  binary_xor = [str(int(char_a != char_b)) for char_a, char_b in zip(a_zfill, b_zfill)]\n",
        "  binary_result = ''.join(binary_xor)\n",
        "  decimal_result = int(binary_result, base=2)\n",
        "\n",
        "  return decimal_result\n"
      ],
      "execution_count": null,
      "outputs": []
    },
    {
      "cell_type": "markdown",
      "metadata": {
        "id": "SPkLQ-VBIvJn"
      },
      "source": [
        "# Functional programming"
      ]
    },
    {
      "cell_type": "code",
      "metadata": {
        "id": "o6cIzwLmvMWd"
      },
      "source": [
        "def reduce(function, iterable):\n",
        "  if len(iterable) == 0:\n",
        "    return None\n",
        "  result = iterable[0]\n",
        "  for item in iterable[1:]:\n",
        "    result = function(result, item)\n",
        "  return result"
      ],
      "execution_count": null,
      "outputs": []
    },
    {
      "cell_type": "code",
      "metadata": {
        "colab": {
          "base_uri": "https://localhost:8080/",
          "height": 35
        },
        "id": "vl_NjNfnJODj",
        "outputId": "a11deea4-f7a4-46f3-9f29-de0ff9a4e536"
      },
      "source": [
        "reduce(lambda x,y : x + y, ['p','y','t','h','o','n'])"
      ],
      "execution_count": null,
      "outputs": [
        {
          "output_type": "execute_result",
          "data": {
            "application/vnd.google.colaboratory.intrinsic+json": {
              "type": "string"
            },
            "text/plain": [
              "'python'"
            ]
          },
          "metadata": {
            "tags": []
          },
          "execution_count": 5
        }
      ]
    },
    {
      "cell_type": "code",
      "metadata": {
        "id": "GkqTwhH8JY9b"
      },
      "source": [
        "def reduce_with_start(function, iterable, start):\n",
        "  if len(iterable) == 0:\n",
        "    return start\n",
        "  result = start\n",
        "  for item in iterable:\n",
        "    result = function(result, item)\n",
        "  return result\n"
      ],
      "execution_count": null,
      "outputs": []
    },
    {
      "cell_type": "code",
      "metadata": {
        "colab": {
          "base_uri": "https://localhost:8080/",
          "height": 35
        },
        "id": "plE7jpu3KDQ_",
        "outputId": "63b46e7a-f6e0-4e71-8e62-816a3bc52db5"
      },
      "source": [
        "reduce_with_start(lambda x,y : x + y, [' ','3.9'],'python')"
      ],
      "execution_count": null,
      "outputs": [
        {
          "output_type": "execute_result",
          "data": {
            "application/vnd.google.colaboratory.intrinsic+json": {
              "type": "string"
            },
            "text/plain": [
              "'python 3.9'"
            ]
          },
          "metadata": {
            "tags": []
          },
          "execution_count": 21
        }
      ]
    },
    {
      "cell_type": "markdown",
      "metadata": {
        "id": "7in1oQ3PMSvx"
      },
      "source": [
        "#Class Int append"
      ]
    },
    {
      "cell_type": "code",
      "metadata": {
        "id": "FbIbeBvAKIi6"
      },
      "source": [
        "class IntList(list):\n",
        "  def append(self, value):\n",
        "    if not isinstance(value, int):\n",
        "      raise TypeError('The value must be an integer.')\n",
        "    else:\n",
        "      return list.append(self, value)"
      ],
      "execution_count": null,
      "outputs": []
    },
    {
      "cell_type": "code",
      "metadata": {
        "id": "UHzul8zrMgng"
      },
      "source": [
        "intl = IntList()"
      ],
      "execution_count": null,
      "outputs": []
    },
    {
      "cell_type": "code",
      "metadata": {
        "id": "yQ3hieMLM_hY"
      },
      "source": [
        "intl.append(4)"
      ],
      "execution_count": null,
      "outputs": []
    },
    {
      "cell_type": "code",
      "metadata": {
        "colab": {
          "base_uri": "https://localhost:8080/"
        },
        "id": "chPodsASNBTC",
        "outputId": "937db501-7297-4223-bc8c-83f20bce8162"
      },
      "source": [
        "intl"
      ],
      "execution_count": null,
      "outputs": [
        {
          "output_type": "execute_result",
          "data": {
            "text/plain": [
              "[4]"
            ]
          },
          "metadata": {
            "tags": []
          },
          "execution_count": 32
        }
      ]
    },
    {
      "cell_type": "code",
      "metadata": {
        "id": "jha37j-KNPmj"
      },
      "source": [
        "intl.append(4)"
      ],
      "execution_count": null,
      "outputs": []
    },
    {
      "cell_type": "code",
      "metadata": {
        "colab": {
          "base_uri": "https://localhost:8080/"
        },
        "id": "iGwfPbm9NRH1",
        "outputId": "c128c317-006c-4f69-aba5-ee405f272eff"
      },
      "source": [
        "intl"
      ],
      "execution_count": null,
      "outputs": [
        {
          "output_type": "execute_result",
          "data": {
            "text/plain": [
              "[4, 4]"
            ]
          },
          "metadata": {
            "tags": []
          },
          "execution_count": 34
        }
      ]
    },
    {
      "cell_type": "code",
      "metadata": {
        "id": "2H0oohukNSIq"
      },
      "source": [
        "class NaturalList(list):\n",
        "  def append(self, value):\n",
        "    if not isinstance(value, int):\n",
        "      raise TypeError('The value must be an integer.')\n",
        "    if not value > 0:\n",
        "      raise ValueError('The value must be a natural number.')\n",
        "    return list.append(self, value) "
      ],
      "execution_count": null,
      "outputs": []
    },
    {
      "cell_type": "code",
      "metadata": {
        "id": "m2Z_c1QIgaZe"
      },
      "source": [
        "classlist = NaturalList()"
      ],
      "execution_count": null,
      "outputs": []
    },
    {
      "cell_type": "code",
      "metadata": {
        "colab": {
          "base_uri": "https://localhost:8080/",
          "height": 282
        },
        "id": "XQrFRAazgd3a",
        "outputId": "8f85904b-5c3d-4cf3-b557-d3f8b6a089b0"
      },
      "source": [
        "classlist.append('siu')"
      ],
      "execution_count": null,
      "outputs": [
        {
          "output_type": "error",
          "ename": "TypeError",
          "evalue": "ignored",
          "traceback": [
            "\u001b[0;31m---------------------------------------------------------------------------\u001b[0m",
            "\u001b[0;31mTypeError\u001b[0m                                 Traceback (most recent call last)",
            "\u001b[0;32m<ipython-input-43-24d08ff347ea>\u001b[0m in \u001b[0;36m<module>\u001b[0;34m()\u001b[0m\n\u001b[0;32m----> 1\u001b[0;31m \u001b[0mclasslist\u001b[0m\u001b[0;34m.\u001b[0m\u001b[0mappend\u001b[0m\u001b[0;34m(\u001b[0m\u001b[0;34m'siu'\u001b[0m\u001b[0;34m)\u001b[0m\u001b[0;34m\u001b[0m\u001b[0;34m\u001b[0m\u001b[0m\n\u001b[0m",
            "\u001b[0;32m<ipython-input-41-b2d86820c4af>\u001b[0m in \u001b[0;36mappend\u001b[0;34m(self, value)\u001b[0m\n\u001b[1;32m      2\u001b[0m   \u001b[0;32mdef\u001b[0m \u001b[0mappend\u001b[0m\u001b[0;34m(\u001b[0m\u001b[0mself\u001b[0m\u001b[0;34m,\u001b[0m \u001b[0mvalue\u001b[0m\u001b[0;34m)\u001b[0m\u001b[0;34m:\u001b[0m\u001b[0;34m\u001b[0m\u001b[0;34m\u001b[0m\u001b[0m\n\u001b[1;32m      3\u001b[0m     \u001b[0;32mif\u001b[0m \u001b[0;32mnot\u001b[0m \u001b[0misinstance\u001b[0m\u001b[0;34m(\u001b[0m\u001b[0mvalue\u001b[0m\u001b[0;34m,\u001b[0m \u001b[0mint\u001b[0m\u001b[0;34m)\u001b[0m\u001b[0;34m:\u001b[0m\u001b[0;34m\u001b[0m\u001b[0;34m\u001b[0m\u001b[0m\n\u001b[0;32m----> 4\u001b[0;31m       \u001b[0;32mraise\u001b[0m \u001b[0mTypeError\u001b[0m\u001b[0;34m(\u001b[0m\u001b[0;34m'The value must be an integer.'\u001b[0m\u001b[0;34m)\u001b[0m\u001b[0;34m\u001b[0m\u001b[0;34m\u001b[0m\u001b[0m\n\u001b[0m\u001b[1;32m      5\u001b[0m     \u001b[0;32mif\u001b[0m \u001b[0;32mnot\u001b[0m \u001b[0mvalue\u001b[0m \u001b[0;34m>\u001b[0m \u001b[0;36m0\u001b[0m\u001b[0;34m:\u001b[0m\u001b[0;34m\u001b[0m\u001b[0;34m\u001b[0m\u001b[0m\n\u001b[1;32m      6\u001b[0m       \u001b[0;32mraise\u001b[0m \u001b[0mValueError\u001b[0m\u001b[0;34m(\u001b[0m\u001b[0;34m'The value must be a natural number.'\u001b[0m\u001b[0;34m)\u001b[0m\u001b[0;34m\u001b[0m\u001b[0;34m\u001b[0m\u001b[0m\n",
            "\u001b[0;31mTypeError\u001b[0m: The value must be an integer."
          ]
        }
      ]
    },
    {
      "cell_type": "code",
      "metadata": {
        "colab": {
          "base_uri": "https://localhost:8080/"
        },
        "id": "Z2F5SCVeglP9",
        "outputId": "26a97b89-6181-4c70-c23c-93c4dee9471f"
      },
      "source": [
        "classlist.append(-4)"
      ],
      "execution_count": null,
      "outputs": [
        {
          "output_type": "execute_result",
          "data": {
            "text/plain": [
              "ValueError('The value must be a natural number.')"
            ]
          },
          "metadata": {
            "tags": []
          },
          "execution_count": 39
        }
      ]
    },
    {
      "cell_type": "code",
      "metadata": {
        "id": "IPFKWC_cggR9"
      },
      "source": [
        "class IntDict(dict):\n",
        "  def __setitem__(self, key, value):\n",
        "    if not isinstance(value, int):\n",
        "      raise TypeError('The value must be an integer.')\n",
        "    return dict.__setitem__(self, key, value)\n"
      ],
      "execution_count": null,
      "outputs": []
    },
    {
      "cell_type": "code",
      "metadata": {
        "id": "bG64wgAXhvll"
      },
      "source": [
        "id = IntDict()"
      ],
      "execution_count": null,
      "outputs": []
    },
    {
      "cell_type": "code",
      "metadata": {
        "id": "NSX0ebarhx8y"
      },
      "source": [
        "id['one'] = 1"
      ],
      "execution_count": null,
      "outputs": []
    },
    {
      "cell_type": "code",
      "metadata": {
        "colab": {
          "base_uri": "https://localhost:8080/",
          "height": 265
        },
        "id": "OPR_s_H2h3n2",
        "outputId": "0a413b7c-e3c3-45f4-cd5f-ce984ce01893"
      },
      "source": [
        "id['two'] = 'two'"
      ],
      "execution_count": null,
      "outputs": [
        {
          "output_type": "error",
          "ename": "TypeError",
          "evalue": "ignored",
          "traceback": [
            "\u001b[0;31m---------------------------------------------------------------------------\u001b[0m",
            "\u001b[0;31mTypeError\u001b[0m                                 Traceback (most recent call last)",
            "\u001b[0;32m<ipython-input-47-1ddfcec6ff00>\u001b[0m in \u001b[0;36m<module>\u001b[0;34m()\u001b[0m\n\u001b[0;32m----> 1\u001b[0;31m \u001b[0mid\u001b[0m\u001b[0;34m[\u001b[0m\u001b[0;34m'two'\u001b[0m\u001b[0;34m]\u001b[0m \u001b[0;34m=\u001b[0m \u001b[0;34m'two'\u001b[0m\u001b[0;34m\u001b[0m\u001b[0;34m\u001b[0m\u001b[0m\n\u001b[0m",
            "\u001b[0;32m<ipython-input-44-8aa9e603f0de>\u001b[0m in \u001b[0;36m__setitem__\u001b[0;34m(self, key, value)\u001b[0m\n\u001b[1;32m      2\u001b[0m   \u001b[0;32mdef\u001b[0m \u001b[0m__setitem__\u001b[0m\u001b[0;34m(\u001b[0m\u001b[0mself\u001b[0m\u001b[0;34m,\u001b[0m \u001b[0mkey\u001b[0m\u001b[0;34m,\u001b[0m \u001b[0mvalue\u001b[0m\u001b[0;34m)\u001b[0m\u001b[0;34m:\u001b[0m\u001b[0;34m\u001b[0m\u001b[0;34m\u001b[0m\u001b[0m\n\u001b[1;32m      3\u001b[0m     \u001b[0;32mif\u001b[0m \u001b[0;32mnot\u001b[0m \u001b[0misinstance\u001b[0m\u001b[0;34m(\u001b[0m\u001b[0mvalue\u001b[0m\u001b[0;34m,\u001b[0m \u001b[0mint\u001b[0m\u001b[0;34m)\u001b[0m\u001b[0;34m:\u001b[0m\u001b[0;34m\u001b[0m\u001b[0;34m\u001b[0m\u001b[0m\n\u001b[0;32m----> 4\u001b[0;31m       \u001b[0;32mraise\u001b[0m \u001b[0mTypeError\u001b[0m\u001b[0;34m(\u001b[0m\u001b[0;34m'The value must be an integer.'\u001b[0m\u001b[0;34m)\u001b[0m\u001b[0;34m\u001b[0m\u001b[0;34m\u001b[0m\u001b[0m\n\u001b[0m\u001b[1;32m      5\u001b[0m     \u001b[0;32mreturn\u001b[0m \u001b[0mdict\u001b[0m\u001b[0;34m.\u001b[0m\u001b[0m__setitem__\u001b[0m\u001b[0;34m(\u001b[0m\u001b[0mself\u001b[0m\u001b[0;34m,\u001b[0m \u001b[0mkey\u001b[0m\u001b[0;34m,\u001b[0m \u001b[0mvalue\u001b[0m\u001b[0;34m)\u001b[0m\u001b[0;34m\u001b[0m\u001b[0;34m\u001b[0m\u001b[0m\n",
            "\u001b[0;31mTypeError\u001b[0m: The value must be an integer."
          ]
        }
      ]
    },
    {
      "cell_type": "code",
      "metadata": {
        "id": "ljE0QEd2h6C6"
      },
      "source": [
        "id['three'] = 3"
      ],
      "execution_count": null,
      "outputs": []
    },
    {
      "cell_type": "code",
      "metadata": {
        "colab": {
          "base_uri": "https://localhost:8080/"
        },
        "id": "Tgx8ePdEh76z",
        "outputId": "a38eeb7f-0525-4f2f-aa13-3ae0cb33d668"
      },
      "source": [
        "id.__setitem__"
      ],
      "execution_count": null,
      "outputs": [
        {
          "output_type": "execute_result",
          "data": {
            "text/plain": [
              "<bound method IntDict.__setitem__ of {'one': 1, 'three': 3}>"
            ]
          },
          "metadata": {
            "tags": []
          },
          "execution_count": 49
        }
      ]
    },
    {
      "cell_type": "markdown",
      "metadata": {
        "id": "17THiRG-iWCn"
      },
      "source": [
        "#Moving average function CD project"
      ]
    },
    {
      "cell_type": "code",
      "metadata": {
        "colab": {
          "base_uri": "https://localhost:8080/"
        },
        "id": "C1ykp9jUh-Nf",
        "outputId": "14da22d7-0730-4c5d-e554-e6e9a5759b9d"
      },
      "source": [
        "import csv\n",
        "\n",
        "with open('cdr.csv', 'r') as file:\n",
        "  reader = csv.reader(file, delimiter =',')\n",
        "  columns = next(reader)\n",
        "  rows = list(reader)\n",
        "  closes = list(map(lambda row: float(row[4]), rows))\n",
        "\n",
        "def moving_avg(prices):\n",
        "  idx = 0\n",
        "  moving_averages = []\n",
        "  while idx < len(prices) - 2:\n",
        "    current_window = prices[idx: idx + 3]\n",
        "    window_average = round(sum(current_window) / 3, 2)\n",
        "    moving_averages.append(window_average)\n",
        "    idx += 1\n",
        "  return moving_averages\n",
        "print(moving_avg(closes))"
      ],
      "execution_count": null,
      "outputs": [
        {
          "output_type": "stream",
          "text": [
            "[236.63, 234.87, 231.77, 233.0, 229.0, 221.73, 218.07, 219.23, 225.8, 228.63, 230.13, 227.07, 224.97, 220.3, 220.3, 218.27, 215.3, 212.4, 219.93, 223.2, 216.03]\n"
          ],
          "name": "stdout"
        }
      ]
    },
    {
      "cell_type": "markdown",
      "metadata": {
        "id": "rcqeiNYZnn3v"
      },
      "source": [
        "#Moving averages with window size"
      ]
    },
    {
      "cell_type": "code",
      "metadata": {
        "colab": {
          "base_uri": "https://localhost:8080/"
        },
        "id": "qyB5kGNQk6z7",
        "outputId": "5c6de3d4-ed33-4795-e671-d1a56afaa39b"
      },
      "source": [
        "import csv\n",
        "\n",
        "with open('cdr.csv', 'r') as file:\n",
        "  reader = csv.reader(file, delimiter =',')\n",
        "  columns = next(reader)\n",
        "  rows = list(reader)\n",
        "  closes = list(map(lambda row: float(row[4]), rows))\n",
        "\n",
        "def moving_avg(prices,window_size):\n",
        "  idx = 0\n",
        "  moving_averages = []\n",
        "  while idx < len(prices) - window_size + 1:\n",
        "    current_window = prices[idx: idx + window_size]\n",
        "    window_average = round(sum(current_window) / window_size, 2)\n",
        "    moving_averages.append(window_average)\n",
        "    idx += 1\n",
        "  return moving_averages\n",
        "print(moving_avg(closes, 15))"
      ],
      "execution_count": null,
      "outputs": [
        {
          "output_type": "stream",
          "text": [
            "[228.26, 226.71, 225.33, 224.59, 222.79, 221.46, 221.97, 221.63, 220.32]\n"
          ],
          "name": "stdout"
        }
      ]
    },
    {
      "cell_type": "markdown",
      "metadata": {
        "id": "XitOzDjboImB"
      },
      "source": [
        "# Moving average minimum"
      ]
    },
    {
      "cell_type": "code",
      "metadata": {
        "colab": {
          "base_uri": "https://localhost:8080/"
        },
        "id": "r7o7kJjplRJ2",
        "outputId": "45ca4147-9bf3-42e0-caa5-639193ea76ec"
      },
      "source": [
        "import csv\n",
        "\n",
        "with open('cdr.csv', 'r') as file:\n",
        "  reader = csv.reader(file, delimiter =',')\n",
        "  columns = next(reader)\n",
        "  rows = list(reader)\n",
        "  closes = list(map(lambda row: float(row[4]), rows))\n",
        "\n",
        "def moving_avg(prices,window_size):\n",
        "  idx = 0\n",
        "  moving_averages = []\n",
        "  while idx < len(prices) - window_size + 1:\n",
        "    current_window = prices[idx: idx + window_size]\n",
        "    window_average = round(sum(current_window) / window_size, 2)\n",
        "    moving_averages.append(window_average)\n",
        "    idx += 1\n",
        "  return moving_averages\n",
        "def moving_min(prices, window_size):\n",
        "  idx = 0\n",
        "  moving_minimum = []\n",
        "  while idx < len(prices) - window_size + 1:\n",
        "    current_window = prices[idx: idx + window_size]\n",
        "    window_minimum = min(current_window)\n",
        "    moving_minimum.append(window_minimum)\n",
        "    idx += 1\n",
        "  return moving_minimum\n",
        "print(moving_min(closes, 15))"
      ],
      "execution_count": null,
      "outputs": [
        {
          "output_type": "stream",
          "text": [
            "[228.3, 228.3, 228.3, 232.0, 223.0, 210.2, 210.2, 210.2, 221.0, 226.5, 229.5, 220.7, 220.7, 217.0, 217.0, 217.0, 208.1, 208.1, 208.1, 212.0, 190.5]\n"
          ],
          "name": "stdout"
        }
      ]
    },
    {
      "cell_type": "markdown",
      "metadata": {
        "id": "YSa1mqpUxbXf"
      },
      "source": [
        "# Calcuate Support "
      ]
    },
    {
      "cell_type": "code",
      "metadata": {
        "id": "BhaKTmAupanW"
      },
      "source": [
        "import csv\n",
        "\n",
        "with open('cdr.csv', 'r') as file:\n",
        "  reader = csv.reader(file, delimiter =',')\n",
        "  columns = next(reader)\n",
        "  rows = list(reader)\n",
        "  highs = list(map(lambda row: float(row[2]), rows))\n",
        "  lows = list(map(lambda row: float(row[3]), rows))\n",
        "  closes = list(map(lambda row: float(row[4]), rows))\n",
        "\n",
        "def moving_avg(prices,window_size):\n",
        "  idx = 0\n",
        "  moving_averages = []\n",
        "  while idx < len(prices) - window_size + 1:\n",
        "    current_window = prices[idx: idx + window_size]\n",
        "    window_average = round(sum(current_window) / window_size, 2)\n",
        "    moving_averages.append(window_average)\n",
        "    idx += 1\n",
        "  return moving_averages\n",
        "def moving_min(prices, window_size):\n",
        "  idx = 0\n",
        "  moving_minimum = []\n",
        "  while idx < len(prices) - window_size + 1:\n",
        "    current_window = prices[idx: idx + window_size]\n",
        "    window_minimum = min(current_window)\n",
        "    moving_minimum.append(window_minimum)\n",
        "    idx += 1\n",
        "  return moving_minimum\n",
        "def calculate_support(prices, window_size, ratio=0.1):\n",
        "  moving_mins = moving_min(prices, window_size)\n",
        "  diffs = [high - low for high, low in zip(highs,lows)]\n",
        "  supports = [round(value - (ratio * diff), 2) for value, diff in zip(moving_mins, diffs)]\n",
        "  return supports"
      ],
      "execution_count": null,
      "outputs": []
    },
    {
      "cell_type": "code",
      "metadata": {
        "colab": {
          "base_uri": "https://localhost:8080/"
        },
        "id": "bIGTjUvl4QKz",
        "outputId": "6b5031f9-2b5a-412f-95c4-752d80a9b066"
      },
      "source": [
        "calculate_support(closes, 10, 0.5)"
      ],
      "execution_count": null,
      "outputs": [
        {
          "output_type": "execute_result",
          "data": {
            "text/plain": [
              "[202.3,\n",
              " 205.25,\n",
              " 201.05,\n",
              " 204.45,\n",
              " 205.7,\n",
              " 207.45,\n",
              " 204.85,\n",
              " 201.95,\n",
              " 208.5,\n",
              " 200.7,\n",
              " 203.55,\n",
              " 203.3,\n",
              " 203.65,\n",
              " 185.0]"
            ]
          },
          "metadata": {
            "tags": []
          },
          "execution_count": 75
        }
      ]
    },
    {
      "cell_type": "markdown",
      "metadata": {
        "id": "z2jDhfrE48e3"
      },
      "source": [
        "#Min max difference"
      ]
    },
    {
      "cell_type": "code",
      "metadata": {
        "colab": {
          "base_uri": "https://localhost:8080/"
        },
        "id": "8pq2UEHX4bIV",
        "outputId": "4006b76a-1ab1-47d2-b58a-b230d62ead88"
      },
      "source": [
        "import csv\n",
        "\n",
        "\n",
        "with open('cdr.csv', 'r') as file:\n",
        "    reader = csv.reader(file, delimiter=',')\n",
        "    columns = next(reader)\n",
        "    rows = list(reader)\n",
        "    data = list(map(lambda row: (row[0], float(row[2]), float(row[3])), rows))\n",
        "def min_max_diff(prices):\n",
        "  diff = [round(item[1] -item[2], 2) for item in prices]\n",
        "  return diff\n",
        "print(min_max_diff(data))\n"
      ],
      "execution_count": null,
      "outputs": [
        {
          "output_type": "stream",
          "text": [
            "[15.8, 9.9, 18.3, 11.5, 9.0, 5.5, 10.7, 16.5, 17.0, 14.8, 9.1, 9.6, 8.9, 11.0, 9.1, 4.2, 9.6, 7.3, 13.8, 7.4, 27.5, 34.8, 22.2]\n"
          ],
          "name": "stdout"
        }
      ]
    },
    {
      "cell_type": "markdown",
      "metadata": {
        "id": "W96DJJzs6XYn"
      },
      "source": [
        "#Find doji"
      ]
    },
    {
      "cell_type": "code",
      "metadata": {
        "colab": {
          "base_uri": "https://localhost:8080/"
        },
        "id": "RpWjSue_4-yO",
        "outputId": "bf2512b7-57a1-4e50-ad3d-41fc747edcb1"
      },
      "source": [
        "import csv\n",
        "\n",
        "\n",
        "with open('cdr.csv', 'r') as file:\n",
        "    reader = csv.reader(file, delimiter=',')\n",
        "    columns = next(reader)\n",
        "    rows = list(reader)\n",
        "    data = list(map(lambda row: (row[0], float(row[1]), float(row[4])), rows))\n",
        "def find_doji(prices):\n",
        "  diff = [(item[0], abs(round(item[2] - item[1], 2))) for item in prices]\n",
        "  min_diff = min(diff, key=lambda item: item[1])\n",
        "  return min_diff[0]\n",
        "print(find_doji(data))"
      ],
      "execution_count": null,
      "outputs": [
        {
          "output_type": "stream",
          "text": [
            "2021-03-02\n"
          ],
          "name": "stdout"
        }
      ]
    },
    {
      "cell_type": "markdown",
      "metadata": {
        "id": "Enm5c9PniZ-p"
      },
      "source": [
        "#Matrix class"
      ]
    },
    {
      "cell_type": "code",
      "metadata": {
        "id": "2puggOsI8Kbw"
      },
      "source": [
        "class Matrix:\n",
        "\n",
        "    def __init__(self, array):\n",
        "        if not isinstance(array, list):\n",
        "          raise TypeError('To create a matrix you need to pass a nested list of values.')\n",
        "        if len(array) != 0:\n",
        "          if not all(isinstance(row, list) for row in array):\n",
        "            raise TypeError('Each element of array (nested list) must be a list.')\n",
        "          if not all(len(row) for row in array):\n",
        "            raise TypeError('Columns must contain at least one item.')\n",
        "          column_length = len(array[0])\n",
        "\n",
        "          if not all(len(row) == column_length for row in array):\n",
        "            raise TypeError('All columns must be the same length.')\n",
        "\n",
        "          if not all(type(number) in (int, float) for row in array for number in row):\n",
        "                raise TypeError('The values must be of type int or float.')\n",
        "          self.array = array\n",
        "        else:\n",
        "          self.array = []\n",
        "\n",
        "\n",
        "    def __repr__(self):\n",
        "        return str(self.array)"
      ],
      "execution_count": null,
      "outputs": []
    },
    {
      "cell_type": "code",
      "metadata": {
        "colab": {
          "base_uri": "https://localhost:8080/",
          "height": 282
        },
        "id": "ZI7Iecrc0Os0",
        "outputId": "fd8f82ef-5437-426c-f535-c46dc8bea5b2"
      },
      "source": [
        "Matrix([[5],[]])"
      ],
      "execution_count": null,
      "outputs": [
        {
          "output_type": "error",
          "ename": "TypeError",
          "evalue": "ignored",
          "traceback": [
            "\u001b[0;31m---------------------------------------------------------------------------\u001b[0m",
            "\u001b[0;31mTypeError\u001b[0m                                 Traceback (most recent call last)",
            "\u001b[0;32m<ipython-input-5-3f2a818ca37a>\u001b[0m in \u001b[0;36m<module>\u001b[0;34m()\u001b[0m\n\u001b[0;32m----> 1\u001b[0;31m \u001b[0mMatrix\u001b[0m\u001b[0;34m(\u001b[0m\u001b[0;34m[\u001b[0m\u001b[0;34m[\u001b[0m\u001b[0;36m5\u001b[0m\u001b[0;34m]\u001b[0m\u001b[0;34m,\u001b[0m\u001b[0;34m[\u001b[0m\u001b[0;34m]\u001b[0m\u001b[0;34m]\u001b[0m\u001b[0;34m)\u001b[0m\u001b[0;34m\u001b[0m\u001b[0;34m\u001b[0m\u001b[0m\n\u001b[0m",
            "\u001b[0;32m<ipython-input-3-72b8f64c6ef5>\u001b[0m in \u001b[0;36m__init__\u001b[0;34m(self, array)\u001b[0m\n\u001b[1;32m      8\u001b[0m             \u001b[0;32mraise\u001b[0m \u001b[0mTypeError\u001b[0m\u001b[0;34m(\u001b[0m\u001b[0;34m'Each element of array (nested list) must be a list.'\u001b[0m\u001b[0;34m)\u001b[0m\u001b[0;34m\u001b[0m\u001b[0;34m\u001b[0m\u001b[0m\n\u001b[1;32m      9\u001b[0m           \u001b[0;32mif\u001b[0m \u001b[0;32mnot\u001b[0m \u001b[0mall\u001b[0m\u001b[0;34m(\u001b[0m\u001b[0mlen\u001b[0m\u001b[0;34m(\u001b[0m\u001b[0mrow\u001b[0m\u001b[0;34m)\u001b[0m \u001b[0;32mfor\u001b[0m \u001b[0mrow\u001b[0m \u001b[0;32min\u001b[0m \u001b[0marray\u001b[0m\u001b[0;34m)\u001b[0m\u001b[0;34m:\u001b[0m\u001b[0;34m\u001b[0m\u001b[0;34m\u001b[0m\u001b[0m\n\u001b[0;32m---> 10\u001b[0;31m             \u001b[0;32mraise\u001b[0m \u001b[0mTypeError\u001b[0m\u001b[0;34m(\u001b[0m\u001b[0;34m'Columns must contain at least one item.'\u001b[0m\u001b[0;34m)\u001b[0m\u001b[0;34m\u001b[0m\u001b[0;34m\u001b[0m\u001b[0m\n\u001b[0m\u001b[1;32m     11\u001b[0m           \u001b[0mcolumn_length\u001b[0m \u001b[0;34m=\u001b[0m \u001b[0mlen\u001b[0m\u001b[0;34m(\u001b[0m\u001b[0marray\u001b[0m\u001b[0;34m[\u001b[0m\u001b[0;36m0\u001b[0m\u001b[0;34m]\u001b[0m\u001b[0;34m)\u001b[0m\u001b[0;34m\u001b[0m\u001b[0;34m\u001b[0m\u001b[0m\n\u001b[1;32m     12\u001b[0m \u001b[0;34m\u001b[0m\u001b[0m\n",
            "\u001b[0;31mTypeError\u001b[0m: Columns must contain at least one item."
          ]
        }
      ]
    },
    {
      "cell_type": "code",
      "metadata": {
        "id": "gx4RLcR11QJy"
      },
      "source": [
        "class Matrix:\n",
        "\n",
        "    def __init__(self, array):\n",
        "        if not isinstance(array, list):\n",
        "          raise TypeError('To create a matrix you need to pass a nested list of values.')\n",
        "        if len(array) != 0:\n",
        "          if not all(isinstance(row, list) for row in array):\n",
        "            raise TypeError('Each element of array (nested list) must be a list.')\n",
        "          if not all(len(row) for row in array):\n",
        "            raise TypeError('Columns must contain at least one item.')\n",
        "          column_length = len(array[0])\n",
        "\n",
        "          if not all(len(row) == column_length for row in array):\n",
        "            raise TypeError('All columns must be the same length.')\n",
        "\n",
        "          if not all(type(number) in (int, float) for row in array for number in row):\n",
        "                raise TypeError('The values must be of type int or float.')\n",
        "          self.array = array\n",
        "        else:\n",
        "          self.array = []\n",
        "\n",
        "\n",
        "    def __repr__(self):\n",
        "        return str(self.array)\n",
        "    @property\n",
        "    def n_rows(self):\n",
        "      return len(self.array)\n",
        "    @property\n",
        "    def n_cols(self):\n",
        "      if len(self.array) == 0:\n",
        "        return 0\n",
        "      return len(self.array[0])"
      ],
      "execution_count": null,
      "outputs": []
    },
    {
      "cell_type": "code",
      "metadata": {
        "id": "x5fNloHo0VId"
      },
      "source": [
        "c = Matrix([[5,4,2],[5,33,2]])"
      ],
      "execution_count": null,
      "outputs": []
    },
    {
      "cell_type": "code",
      "metadata": {
        "colab": {
          "base_uri": "https://localhost:8080/"
        },
        "id": "6gNtmAmq1-Nw",
        "outputId": "19bcfebd-2b0f-4b20-dac8-961986451662"
      },
      "source": [
        "c"
      ],
      "execution_count": null,
      "outputs": [
        {
          "output_type": "execute_result",
          "data": {
            "text/plain": [
              "[[5, 4, 2], [5, 33, 2]]"
            ]
          },
          "metadata": {
            "tags": []
          },
          "execution_count": 22
        }
      ]
    },
    {
      "cell_type": "code",
      "metadata": {
        "colab": {
          "base_uri": "https://localhost:8080/"
        },
        "id": "WmkZsvXO1_Dz",
        "outputId": "9d755da1-447c-4f19-8fe8-dbd4d192ef8d"
      },
      "source": [
        "c.n_rows"
      ],
      "execution_count": null,
      "outputs": [
        {
          "output_type": "execute_result",
          "data": {
            "text/plain": [
              "2"
            ]
          },
          "metadata": {
            "tags": []
          },
          "execution_count": 23
        }
      ]
    },
    {
      "cell_type": "code",
      "metadata": {
        "colab": {
          "base_uri": "https://localhost:8080/"
        },
        "id": "XEO_2kRy2Am7",
        "outputId": "bb45a2bb-bee6-4455-a48b-6245c7d988b5"
      },
      "source": [
        "c.n_cols"
      ],
      "execution_count": null,
      "outputs": [
        {
          "output_type": "execute_result",
          "data": {
            "text/plain": [
              "3"
            ]
          },
          "metadata": {
            "tags": []
          },
          "execution_count": 24
        }
      ]
    },
    {
      "cell_type": "code",
      "metadata": {
        "id": "dUVkCOHy2KrX"
      },
      "source": [
        "class Matrix:\n",
        "\n",
        "    def __init__(self, array):\n",
        "        if not isinstance(array, list):\n",
        "          raise TypeError('To create a matrix you need to pass a nested list of values.')\n",
        "        if len(array) != 0:\n",
        "          if not all(isinstance(row, list) for row in array):\n",
        "            raise TypeError('Each element of array (nested list) must be a list.')\n",
        "          if not all(len(row) for row in array):\n",
        "            raise TypeError('Columns must contain at least one item.')\n",
        "          column_length = len(array[0])\n",
        "\n",
        "          if not all(len(row) == column_length for row in array):\n",
        "            raise TypeError('All columns must be the same length.')\n",
        "\n",
        "          if not all(type(number) in (int, float) for row in array for number in row):\n",
        "                raise TypeError('The values must be of type int or float.')\n",
        "          self.array = array\n",
        "        else:\n",
        "          self.array = []\n",
        "\n",
        "\n",
        "    def __repr__(self):\n",
        "        return str(self.array)\n",
        "    @property\n",
        "    def n_rows(self):\n",
        "      return len(self.array)\n",
        "    @property\n",
        "    def n_cols(self):\n",
        "      if len(self.array) == 0:\n",
        "        return 0\n",
        "      return len(self.array[0])\n",
        "    @property\n",
        "    def size(self):\n",
        "      return self.n_rows, self.n_cols\n",
        "    @property\n",
        "    def is_square_matrix(self):\n",
        "        return self.size[0] == self.size[1]\n",
        "    def zero(self):\n",
        "      array = [[0 for _ in range(self.n_cols)] for _ in range(self.n_rows)]\n",
        "      return Matrix(array)"
      ],
      "execution_count": null,
      "outputs": []
    },
    {
      "cell_type": "code",
      "metadata": {
        "id": "SFmh3QRx4C9f"
      },
      "source": [
        "class Matrix:\n",
        "\n",
        "    def __init__(self, array):\n",
        "        if not isinstance(array, list):\n",
        "          raise TypeError('To create a matrix you need to pass a nested list of values.')\n",
        "        if len(array) != 0:\n",
        "          if not all(isinstance(row, list) for row in array):\n",
        "            raise TypeError('Each element of array (nested list) must be a list.')\n",
        "          if not all(len(row) for row in array):\n",
        "            raise TypeError('Columns must contain at least one item.')\n",
        "          column_length = len(array[0])\n",
        "\n",
        "          if not all(len(row) == column_length for row in array):\n",
        "            raise TypeError('All columns must be the same length.')\n",
        "\n",
        "          if not all(type(number) in (int, float) for row in array for number in row):\n",
        "                raise TypeError('The values must be of type int or float.')\n",
        "          self.array = array\n",
        "        else:\n",
        "          self.array = []\n",
        "\n",
        "\n",
        "    def __repr__(self):\n",
        "        return str(self.array)\n",
        "    @property\n",
        "    def n_rows(self):\n",
        "      return len(self.array)\n",
        "    @property\n",
        "    def n_cols(self):\n",
        "      if len(self.array) == 0:\n",
        "        return 0\n",
        "      return len(self.array[0])\n",
        "    @property\n",
        "    def size(self):\n",
        "      return self.n_rows, self.n_cols\n",
        "    @property\n",
        "    def is_square_matrix(self):\n",
        "        return self.size[0] == self.size[1]\n",
        "    def zero(self):\n",
        "      array = [[0 for _ in range(self.n_cols)] for _ in range(self.n_rows)]\n",
        "      return Matrix(array)\n",
        "    def identity(self):\n",
        "      if not self.is_square_matrix:\n",
        "        return None\n",
        "      array = [[1 if row == col else 0 for row in range(self.n_rows)] for col in range(self.n_cols)]\n",
        "      return Matrix(array)"
      ],
      "execution_count": null,
      "outputs": []
    },
    {
      "cell_type": "code",
      "metadata": {
        "id": "aVESqqw86Vgv"
      },
      "source": [
        "class Matrix:\n",
        "\n",
        "    def __init__(self, array):\n",
        "        if not isinstance(array, list):\n",
        "          raise TypeError('To create a matrix you need to pass a nested list of values.')\n",
        "        if len(array) != 0:\n",
        "          if not all(isinstance(row, list) for row in array):\n",
        "            raise TypeError('Each element of array (nested list) must be a list.')\n",
        "          if not all(len(row) for row in array):\n",
        "            raise TypeError('Columns must contain at least one item.')\n",
        "          column_length = len(array[0])\n",
        "\n",
        "          if not all(len(row) == column_length for row in array):\n",
        "            raise TypeError('All columns must be the same length.')\n",
        "\n",
        "          if not all(type(number) in (int, float) for row in array for number in row):\n",
        "                raise TypeError('The values must be of type int or float.')\n",
        "          self.array = array\n",
        "        else:\n",
        "          self.array = []\n",
        "\n",
        "\n",
        "    def __repr__(self):\n",
        "        return str(self.array)\n",
        "    @property\n",
        "    def n_rows(self):\n",
        "      return len(self.array)\n",
        "    @property\n",
        "    def n_cols(self):\n",
        "      if len(self.array) == 0:\n",
        "        return 0\n",
        "      return len(self.array[0])\n",
        "    @property\n",
        "    def size(self):\n",
        "      return self.n_rows, self.n_cols\n",
        "    @property\n",
        "    def is_square_matrix(self):\n",
        "        return self.size[0] == self.size[1]\n",
        "    def zero(self):\n",
        "      array = [[0 for _ in range(self.n_cols)] for _ in range(self.n_rows)]\n",
        "      return Matrix(array)\n",
        "    def identity(self):\n",
        "      if not self.is_square_matrix:\n",
        "        return None\n",
        "      array = [[1 if row == col else 0 for row in range(self.n_rows)] for col in range(self.n_cols)]\n",
        "      return Matrix(array)\n",
        "    def add_row(self, row, index=None):\n",
        "      if not isinstance(row, list):\n",
        "        raise TypeError('The matrix row must be a list.')\n",
        "      for number in row:\n",
        "        if not type(number) in (int,float):\n",
        "          raise TypeError('Row values must be int or float.')\n",
        "      if len(row) != self.n_cols:\n",
        "        raise ValueError('The row must be the same length as the number of columns in the matrix.')\n",
        "      if index is None:\n",
        "        self.array.append(row)\n",
        "      else:\n",
        "        self.array = self.array[0:index] + [row] + self.array[index:]"
      ],
      "execution_count": null,
      "outputs": []
    },
    {
      "cell_type": "code",
      "metadata": {
        "id": "zumH0R5q8eh1"
      },
      "source": [
        "class Matrix:\n",
        "\n",
        "    def __init__(self, array):\n",
        "        if not isinstance(array, list):\n",
        "          raise TypeError('To create a matrix you need to pass a nested list of values.')\n",
        "        if len(array) != 0:\n",
        "          if not all(isinstance(row, list) for row in array):\n",
        "            raise TypeError('Each element of array (nested list) must be a list.')\n",
        "          if not all(len(row) for row in array):\n",
        "            raise TypeError('Columns must contain at least one item.')\n",
        "          column_length = len(array[0])\n",
        "\n",
        "          if not all(len(row) == column_length for row in array):\n",
        "            raise TypeError('All columns must be the same length.')\n",
        "\n",
        "          if not all(type(number) in (int, float) for row in array for number in row):\n",
        "                raise TypeError('The values must be of type int or float.')\n",
        "          self.array = array\n",
        "        else:\n",
        "          self.array = []\n",
        "\n",
        "\n",
        "    def __repr__(self):\n",
        "        return str(self.array)\n",
        "    @property\n",
        "    def n_rows(self):\n",
        "      return len(self.array)\n",
        "    @property\n",
        "    def n_cols(self):\n",
        "      if len(self.array) == 0:\n",
        "        return 0\n",
        "      return len(self.array[0])\n",
        "    @property\n",
        "    def size(self):\n",
        "      return self.n_rows, self.n_cols\n",
        "    @property\n",
        "    def is_square_matrix(self):\n",
        "        return self.size[0] == self.size[1]\n",
        "    def zero(self):\n",
        "      array = [[0 for _ in range(self.n_cols)] for _ in range(self.n_rows)]\n",
        "      return Matrix(array)\n",
        "    def identity(self):\n",
        "      if not self.is_square_matrix:\n",
        "        return None\n",
        "      array = [[1 if row == col else 0 for row in range(self.n_rows)] for col in range(self.n_cols)]\n",
        "      return Matrix(array)\n",
        "    def add_row(self, row, index=None):\n",
        "      if not isinstance(row, list):\n",
        "        raise TypeError('The matrix row must be a list.')\n",
        "      for number in row:\n",
        "        if not type(number) in (int,float):\n",
        "          raise TypeError('Row values must be int or float.')\n",
        "      if len(row) != self.n_cols:\n",
        "        raise ValueError('The row must be the same length as the number of columns in the matrix.')\n",
        "      if index is None:\n",
        "        self.array.append(row)\n",
        "      else:\n",
        "        self.array = self.array[0:index] + [row] + self.array[index:]\n",
        "\n",
        "    def add_column(self, column, index=None):\n",
        "      if not isinstance(column, list):\n",
        "        raise TypeError('The matrix column must be a list.')\n",
        "\n",
        "      for number in column:\n",
        "        if not type(number) in (int,float):\n",
        "          raise TypeError('Column values must be int or float.')\n",
        "\n",
        "      if len(column) != self.n_rows:\n",
        "        raise ValueError('The column must be the same length as the number of rows in the matrix.')\n",
        "\n",
        "      if index is None:\n",
        "        self.array = [self.array[idx] + [column[idx]] for idx in range(self.n_rows)]\n",
        "      else:\n",
        "        self.array = [self.array[idx][0: index] + [column[idx]] + self.array[idx][index:]\n",
        "                          for idx in range(self.n_rows)]"
      ],
      "execution_count": null,
      "outputs": []
    },
    {
      "cell_type": "code",
      "metadata": {
        "id": "XPy-V0-W-N1n"
      },
      "source": [
        "class Matrix:\n",
        "\n",
        "    def __init__(self, array):\n",
        "        if not isinstance(array, list):\n",
        "          raise TypeError('To create a matrix you need to pass a nested list of values.')\n",
        "        if len(array) != 0:\n",
        "          if not all(isinstance(row, list) for row in array):\n",
        "            raise TypeError('Each element of array (nested list) must be a list.')\n",
        "          if not all(len(row) for row in array):\n",
        "            raise TypeError('Columns must contain at least one item.')\n",
        "          column_length = len(array[0])\n",
        "\n",
        "          if not all(len(row) == column_length for row in array):\n",
        "            raise TypeError('All columns must be the same length.')\n",
        "\n",
        "          if not all(type(number) in (int, float) for row in array for number in row):\n",
        "                raise TypeError('The values must be of type int or float.')\n",
        "          self.array = array\n",
        "        else:\n",
        "          self.array = []\n",
        "\n",
        "\n",
        "    def __repr__(self):\n",
        "        return str(self.array)\n",
        "    def __eq__(self, other):\n",
        "        if not isinstance(other, Matrix):\n",
        "            raise TypeError('Cannot compare an object that is not a matrix.')\n",
        "        return self.array == other.array\n",
        "    def __ne__(self, other):\n",
        "      return not self == other\n",
        "    @property\n",
        "    def n_rows(self):\n",
        "      return len(self.array)\n",
        "    @property\n",
        "    def n_cols(self):\n",
        "      if len(self.array) == 0:\n",
        "        return 0\n",
        "      return len(self.array[0])\n",
        "    @property\n",
        "    def size(self):\n",
        "      return self.n_rows, self.n_cols\n",
        "    @property\n",
        "    def is_square_matrix(self):\n",
        "        return self.size[0] == self.size[1]\n",
        "    def zero(self):\n",
        "      array = [[0 for _ in range(self.n_cols)] for _ in range(self.n_rows)]\n",
        "      return Matrix(array)\n",
        "    def identity(self):\n",
        "      if not self.is_square_matrix:\n",
        "        return None\n",
        "      array = [[1 if row == col else 0 for row in range(self.n_rows)] for col in range(self.n_cols)]\n",
        "      return Matrix(array)\n",
        "    def add_row(self, row, index=None):\n",
        "      if not isinstance(row, list):\n",
        "        raise TypeError('The matrix row must be a list.')\n",
        "      for number in row:\n",
        "        if not type(number) in (int,float):\n",
        "          raise TypeError('Row values must be int or float.')\n",
        "      if len(row) != self.n_cols:\n",
        "        raise ValueError('The row must be the same length as the number of columns in the matrix.')\n",
        "      if index is None:\n",
        "        self.array.append(row)\n",
        "      else:\n",
        "        self.array = self.array[0:index] + [row] + self.array[index:]\n",
        "\n",
        "    def add_column(self, column, index=None):\n",
        "      if not isinstance(column, list):\n",
        "        raise TypeError('The matrix column must be a list.')\n",
        "\n",
        "      for number in column:\n",
        "        if not type(number) in (int,float):\n",
        "          raise TypeError('Column values must be int or float.')\n",
        "\n",
        "      if len(column) != self.n_rows:\n",
        "        raise ValueError('The column must be the same length as the number of rows in the matrix.')\n",
        "\n",
        "      if index is None:\n",
        "        self.array = [self.array[idx] + [column[idx]] for idx in range(self.n_rows)]\n",
        "      else:\n",
        "        self.array = [self.array[idx][0: index] + [column[idx]] + self.array[idx][index:]\n",
        "                          for idx in range(self.n_rows)]"
      ],
      "execution_count": null,
      "outputs": []
    },
    {
      "cell_type": "code",
      "metadata": {
        "id": "2hQdX5D7Aje3"
      },
      "source": [
        "class Matrix:\n",
        "\n",
        "    def __init__(self, array):\n",
        "        if not isinstance(array, list):\n",
        "          raise TypeError('To create a matrix you need to pass a nested list of values.')\n",
        "        if len(array) != 0:\n",
        "          if not all(isinstance(row, list) for row in array):\n",
        "            raise TypeError('Each element of array (nested list) must be a list.')\n",
        "          if not all(len(row) for row in array):\n",
        "            raise TypeError('Columns must contain at least one item.')\n",
        "          column_length = len(array[0])\n",
        "\n",
        "          if not all(len(row) == column_length for row in array):\n",
        "            raise TypeError('All columns must be the same length.')\n",
        "\n",
        "          if not all(type(number) in (int, float) for row in array for number in row):\n",
        "                raise TypeError('The values must be of type int or float.')\n",
        "          self.array = array\n",
        "        else:\n",
        "          self.array = []\n",
        "\n",
        "\n",
        "    def __repr__(self):\n",
        "        return str(self.array)\n",
        "    def __eq__(self, other):\n",
        "        if not isinstance(other, Matrix):\n",
        "            raise TypeError('Cannot compare an object that is not a matrix.')\n",
        "        return self.array == other.array\n",
        "    def __ne__(self, other):\n",
        "      return not self == other\n",
        "    def __add__(self, other):\n",
        "      if not isinstance(other, Matrix):\n",
        "        raise TypeError('Cannot add object that is not a matrix.')\n",
        "      if self.size != other.size:\n",
        "        raise ValueError('The matrices must be of the same size.')\n",
        "      array = [[self.array[i][j] + other.array[i][j] for j in range(self.n_cols)] for i in range(self.n_rows)]\n",
        "      return Matrix(array)\n",
        "    \n",
        "    def __sub__(self, other):\n",
        "        if not isinstance(other, Matrix):\n",
        "            raise TypeError('Cannot subtract object that is not a matrix.')\n",
        " \n",
        "        if self.size != other.size:\n",
        "            raise ValueError('The matrices must be of the same size.')\n",
        " \n",
        "        array = [[self.array[i][j] - other.array[i][j]\n",
        "                  for j in range(self.n_cols)] for i in range(self.n_rows)]\n",
        "        return Matrix(array)\n",
        "    @property\n",
        "    def n_rows(self):\n",
        "      return len(self.array)\n",
        "    @property\n",
        "    def n_cols(self):\n",
        "      if len(self.array) == 0:\n",
        "        return 0\n",
        "      return len(self.array[0])\n",
        "    @property\n",
        "    def size(self):\n",
        "      return self.n_rows, self.n_cols\n",
        "    @property\n",
        "    def is_square_matrix(self):\n",
        "        return self.size[0] == self.size[1]\n",
        "    def zero(self):\n",
        "      array = [[0 for _ in range(self.n_cols)] for _ in range(self.n_rows)]\n",
        "      return Matrix(array)\n",
        "    def identity(self):\n",
        "      if not self.is_square_matrix:\n",
        "        return None\n",
        "      array = [[1 if row == col else 0 for row in range(self.n_rows)] for col in range(self.n_cols)]\n",
        "      return Matrix(array)\n",
        "    def add_row(self, row, index=None):\n",
        "      if not isinstance(row, list):\n",
        "        raise TypeError('The matrix row must be a list.')\n",
        "      for number in row:\n",
        "        if not type(number) in (int,float):\n",
        "          raise TypeError('Row values must be int or float.')\n",
        "      if len(row) != self.n_cols:\n",
        "        raise ValueError('The row must be the same length as the number of columns in the matrix.')\n",
        "      if index is None:\n",
        "        self.array.append(row)\n",
        "      else:\n",
        "        self.array = self.array[0:index] + [row] + self.array[index:]\n",
        "\n",
        "    def add_column(self, column, index=None):\n",
        "      if not isinstance(column, list):\n",
        "        raise TypeError('The matrix column must be a list.')\n",
        "\n",
        "      for number in column:\n",
        "        if not type(number) in (int,float):\n",
        "          raise TypeError('Column values must be int or float.')\n",
        "\n",
        "      if len(column) != self.n_rows:\n",
        "        raise ValueError('The column must be the same length as the number of rows in the matrix.')\n",
        "\n",
        "      if index is None:\n",
        "        self.array = [self.array[idx] + [column[idx]] for idx in range(self.n_rows)]\n",
        "      else:\n",
        "        self.array = [self.array[idx][0: index] + [column[idx]] + self.array[idx][index:]\n",
        "                          for idx in range(self.n_rows)]"
      ],
      "execution_count": null,
      "outputs": []
    },
    {
      "cell_type": "code",
      "metadata": {
        "id": "ybWHQfpeBmlE"
      },
      "source": [
        "class Matrix:\n",
        "\n",
        "    def __init__(self, array):\n",
        "        if not isinstance(array, list):\n",
        "          raise TypeError('To create a matrix you need to pass a nested list of values.')\n",
        "        if len(array) != 0:\n",
        "          if not all(isinstance(row, list) for row in array):\n",
        "            raise TypeError('Each element of array (nested list) must be a list.')\n",
        "          if not all(len(row) for row in array):\n",
        "            raise TypeError('Columns must contain at least one item.')\n",
        "          column_length = len(array[0])\n",
        "\n",
        "          if not all(len(row) == column_length for row in array):\n",
        "            raise TypeError('All columns must be the same length.')\n",
        "\n",
        "          if not all(type(number) in (int, float) for row in array for number in row):\n",
        "                raise TypeError('The values must be of type int or float.')\n",
        "          self.array = array\n",
        "        else:\n",
        "          self.array = []\n",
        "\n",
        "\n",
        "    def __repr__(self):\n",
        "        return str(self.array)\n",
        "    def __eq__(self, other):\n",
        "        if not isinstance(other, Matrix):\n",
        "            raise TypeError('Cannot compare an object that is not a matrix.')\n",
        "        return self.array == other.array\n",
        "    def __ne__(self, other):\n",
        "      return not self == other\n",
        "    def __add__(self, other):\n",
        "      if not isinstance(other, Matrix):\n",
        "        raise TypeError('Cannot add object that is not a matrix.')\n",
        "      if self.size != other.size:\n",
        "        raise ValueError('The matrices must be of the same size.')\n",
        "      array = [[self.array[i][j] + other.array[i][j] for j in range(self.n_cols)] for i in range(self.n_rows)]\n",
        "      return Matrix(array)\n",
        "    \n",
        "    def __sub__(self, other):\n",
        "        if not isinstance(other, Matrix):\n",
        "            raise TypeError('Cannot subtract object that is not a matrix.')\n",
        " \n",
        "        if self.size != other.size:\n",
        "            raise ValueError('The matrices must be of the same size.')\n",
        " \n",
        "        array = [[self.array[i][j] - other.array[i][j]\n",
        "                  for j in range(self.n_cols)] for i in range(self.n_rows)]\n",
        "        return Matrix(array)\n",
        "    @property\n",
        "    def n_rows(self):\n",
        "      return len(self.array)\n",
        "    @property\n",
        "    def n_cols(self):\n",
        "      if len(self.array) == 0:\n",
        "        return 0\n",
        "      return len(self.array[0])\n",
        "    @property\n",
        "    def size(self):\n",
        "      return self.n_rows, self.n_cols\n",
        "    @property\n",
        "    def is_square_matrix(self):\n",
        "        return self.size[0] == self.size[1]\n",
        "    def zero(self):\n",
        "      array = [[0 for _ in range(self.n_cols)] for _ in range(self.n_rows)]\n",
        "      return Matrix(array)\n",
        "    def identity(self):\n",
        "      if not self.is_square_matrix:\n",
        "        return None\n",
        "      array = [[1 if row == col else 0 for row in range(self.n_rows)] for col in range(self.n_cols)]\n",
        "      return Matrix(array)\n",
        "    def add_row(self, row, index=None):\n",
        "      if not isinstance(row, list):\n",
        "        raise TypeError('The matrix row must be a list.')\n",
        "      for number in row:\n",
        "        if not type(number) in (int,float):\n",
        "          raise TypeError('Row values must be int or float.')\n",
        "      if len(row) != self.n_cols:\n",
        "        raise ValueError('The row must be the same length as the number of columns in the matrix.')\n",
        "      if index is None:\n",
        "        self.array.append(row)\n",
        "      else:\n",
        "        self.array = self.array[0:index] + [row] + self.array[index:]\n",
        "\n",
        "    def add_column(self, column, index=None):\n",
        "      if not isinstance(column, list):\n",
        "        raise TypeError('The matrix column must be a list.')\n",
        "\n",
        "      for number in column:\n",
        "        if not type(number) in (int,float):\n",
        "          raise TypeError('Column values must be int or float.')\n",
        "\n",
        "      if len(column) != self.n_rows:\n",
        "        raise ValueError('The column must be the same length as the number of rows in the matrix.')\n",
        "\n",
        "      if index is None:\n",
        "        self.array = [self.array[idx] + [column[idx]] for idx in range(self.n_rows)]\n",
        "      else:\n",
        "        self.array = [self.array[idx][0: index] + [column[idx]] + self.array[idx][index:]\n",
        "                          for idx in range(self.n_rows)]\n",
        "    def transpose(self):\n",
        "      array = [[row[idx] for row in self.array] for idx in range(self.n_cols)]\n",
        "      return Matrix(array)\n",
        "    \n",
        "    def multiply_elementwise(self, other):\n",
        "      if not isinstance(other, Matrix):\n",
        "        raise TypeError('Cannot multiply object that is not a matrix.')\n",
        "      if self.size != other.size:\n",
        "        raise ValueError('The matrices must be of the same size.')\n",
        "      array = [[self.array[i][j] * other.array[i][j] for j in range(self.n_cols)] for i in range(self.n_rows)]\n",
        "      return Matrix(array)\n"
      ],
      "execution_count": null,
      "outputs": []
    },
    {
      "cell_type": "code",
      "metadata": {
        "id": "qNoDCcQsD7ZF"
      },
      "source": [
        "class Matrix:\n",
        "\n",
        "    def __init__(self, array):\n",
        "        if not isinstance(array, list):\n",
        "          raise TypeError('To create a matrix you need to pass a nested list of values.')\n",
        "        if len(array) != 0:\n",
        "          if not all(isinstance(row, list) for row in array):\n",
        "            raise TypeError('Each element of array (nested list) must be a list.')\n",
        "          if not all(len(row) for row in array):\n",
        "            raise TypeError('Columns must contain at least one item.')\n",
        "          column_length = len(array[0])\n",
        "\n",
        "          if not all(len(row) == column_length for row in array):\n",
        "            raise TypeError('All columns must be the same length.')\n",
        "\n",
        "          if not all(type(number) in (int, float) for row in array for number in row):\n",
        "                raise TypeError('The values must be of type int or float.')\n",
        "          self.array = array\n",
        "        else:\n",
        "          self.array = []\n",
        "\n",
        "\n",
        "    def __repr__(self):\n",
        "        return str(self.array)\n",
        "    def __eq__(self, other):\n",
        "        if not isinstance(other, Matrix):\n",
        "            raise TypeError('Cannot compare an object that is not a matrix.')\n",
        "        return self.array == other.array\n",
        "    def __ne__(self, other):\n",
        "      return not self == other\n",
        "    def __add__(self, other):\n",
        "      if not isinstance(other, Matrix):\n",
        "        raise TypeError('Cannot add object that is not a matrix.')\n",
        "      if self.size != other.size:\n",
        "        raise ValueError('The matrices must be of the same size.')\n",
        "      array = [[self.array[i][j] + other.array[i][j] for j in range(self.n_cols)] for i in range(self.n_rows)]\n",
        "      return Matrix(array)\n",
        "    \n",
        "    def __sub__(self, other):\n",
        "        if not isinstance(other, Matrix):\n",
        "            raise TypeError('Cannot subtract object that is not a matrix.')\n",
        " \n",
        "        if self.size != other.size:\n",
        "            raise ValueError('The matrices must be of the same size.')\n",
        " \n",
        "        array = [[self.array[i][j] - other.array[i][j]\n",
        "                  for j in range(self.n_cols)] for i in range(self.n_rows)]\n",
        "        return Matrix(array)\n",
        "    @property\n",
        "    def n_rows(self):\n",
        "      return len(self.array)\n",
        "    @property\n",
        "    def n_cols(self):\n",
        "      if len(self.array) == 0:\n",
        "        return 0\n",
        "      return len(self.array[0])\n",
        "    @property\n",
        "    def size(self):\n",
        "      return self.n_rows, self.n_cols\n",
        "    @property\n",
        "    def is_square_matrix(self):\n",
        "        return self.size[0] == self.size[1]\n",
        "    def zero(self):\n",
        "      array = [[0 for _ in range(self.n_cols)] for _ in range(self.n_rows)]\n",
        "      return Matrix(array)\n",
        "    def identity(self):\n",
        "      if not self.is_square_matrix:\n",
        "        return None\n",
        "      array = [[1 if row == col else 0 for row in range(self.n_rows)] for col in range(self.n_cols)]\n",
        "      return Matrix(array)\n",
        "    def add_row(self, row, index=None):\n",
        "      if not isinstance(row, list):\n",
        "        raise TypeError('The matrix row must be a list.')\n",
        "      for number in row:\n",
        "        if not type(number) in (int,float):\n",
        "          raise TypeError('Row values must be int or float.')\n",
        "      if len(row) != self.n_cols:\n",
        "        raise ValueError('The row must be the same length as the number of columns in the matrix.')\n",
        "      if index is None:\n",
        "        self.array.append(row)\n",
        "      else:\n",
        "        self.array = self.array[0:index] + [row] + self.array[index:]\n",
        "\n",
        "    def add_column(self, column, index=None):\n",
        "      if not isinstance(column, list):\n",
        "        raise TypeError('The matrix column must be a list.')\n",
        "\n",
        "      for number in column:\n",
        "        if not type(number) in (int,float):\n",
        "          raise TypeError('Column values must be int or float.')\n",
        "\n",
        "      if len(column) != self.n_rows:\n",
        "        raise ValueError('The column must be the same length as the number of rows in the matrix.')\n",
        "\n",
        "      if index is None:\n",
        "        self.array = [self.array[idx] + [column[idx]] for idx in range(self.n_rows)]\n",
        "      else:\n",
        "        self.array = [self.array[idx][0: index] + [column[idx]] + self.array[idx][index:]\n",
        "                          for idx in range(self.n_rows)]\n",
        "    def transpose(self):\n",
        "      array = [[row[idx] for row in self.array] for idx in range(self.n_cols)]\n",
        "      return Matrix(array)\n",
        "    \n",
        "    def multiply_elementwise(self, other):\n",
        "      if not isinstance(other, Matrix):\n",
        "        raise TypeError('Cannot multiply object that is not a matrix.')\n",
        "      if self.size != other.size:\n",
        "        raise ValueError('The matrices must be of the same size.')\n",
        "      array = [[self.array[i][j] * other.array[i][j] for j in range(self.n_cols)] for i in range(self.n_rows)]\n",
        "      return Matrix(array)\n",
        "    @classmethod\n",
        "    def dot(cls, row, column):\n",
        "      if not isinstance(row, list) and isinstance(column, list):\n",
        "        raise TypeError('The row and column must be a list.')\n",
        "      return sum(row[idx] * column[idx] for idx in range(len(row)))\n"
      ],
      "execution_count": null,
      "outputs": []
    },
    {
      "cell_type": "code",
      "metadata": {
        "id": "w5s4HTx_FkoY"
      },
      "source": [
        "class Matrix:\n",
        "\n",
        "    def __init__(self, array):\n",
        "        if not isinstance(array, list):\n",
        "          raise TypeError('To create a matrix you need to pass a nested list of values.')\n",
        "        if len(array) != 0:\n",
        "          if not all(isinstance(row, list) for row in array):\n",
        "            raise TypeError('Each element of array (nested list) must be a list.')\n",
        "          if not all(len(row) for row in array):\n",
        "            raise TypeError('Columns must contain at least one item.')\n",
        "          column_length = len(array[0])\n",
        "\n",
        "          if not all(len(row) == column_length for row in array):\n",
        "            raise TypeError('All columns must be the same length.')\n",
        "\n",
        "          if not all(type(number) in (int, float) for row in array for number in row):\n",
        "                raise TypeError('The values must be of type int or float.')\n",
        "          self.array = array\n",
        "        else:\n",
        "          self.array = []\n",
        "\n",
        "\n",
        "    def __repr__(self):\n",
        "        return str(self.array)\n",
        "    def __eq__(self, other):\n",
        "        if not isinstance(other, Matrix):\n",
        "            raise TypeError('Cannot compare an object that is not a matrix.')\n",
        "        return self.array == other.array\n",
        "    def __ne__(self, other):\n",
        "      return not self == other\n",
        "    def __add__(self, other):\n",
        "      if not isinstance(other, Matrix):\n",
        "        raise TypeError('Cannot add object that is not a matrix.')\n",
        "      if self.size != other.size:\n",
        "        raise ValueError('The matrices must be of the same size.')\n",
        "      array = [[self.array[i][j] + other.array[i][j] for j in range(self.n_cols)] for i in range(self.n_rows)]\n",
        "      return Matrix(array)\n",
        "    \n",
        "    def __sub__(self, other):\n",
        "        if not isinstance(other, Matrix):\n",
        "            raise TypeError('Cannot subtract object that is not a matrix.')\n",
        " \n",
        "        if self.size != other.size:\n",
        "            raise ValueError('The matrices must be of the same size.')\n",
        " \n",
        "        array = [[self.array[i][j] - other.array[i][j]\n",
        "                  for j in range(self.n_cols)] for i in range(self.n_rows)]\n",
        "        return Matrix(array)\n",
        "    def __mul__(self, other):\n",
        "      if not isinstance(other,Matrix):\n",
        "        raise TypeError('Cannot multiply object that is not a matrix.')\n",
        "      else:\n",
        "        if other.n_rows != self.n_cols:\n",
        "          raise ValueError('The number of rows in the second matrix must be equal '\n",
        "                                 'to the number of columns in the first matrix.')\n",
        "        array = [[Matrix.dot(row, column) for column in other.transpose().array] for row in self.array]\n",
        "        return Matrix(array)\n",
        "    @property\n",
        "    def n_rows(self):\n",
        "      return len(self.array)\n",
        "    @property\n",
        "    def n_cols(self):\n",
        "      if len(self.array) == 0:\n",
        "        return 0\n",
        "      return len(self.array[0])\n",
        "    @property\n",
        "    def size(self):\n",
        "      return self.n_rows, self.n_cols\n",
        "    @property\n",
        "    def is_square_matrix(self):\n",
        "        return self.size[0] == self.size[1]\n",
        "    def zero(self):\n",
        "      array = [[0 for _ in range(self.n_cols)] for _ in range(self.n_rows)]\n",
        "      return Matrix(array)\n",
        "    def identity(self):\n",
        "      if not self.is_square_matrix:\n",
        "        return None\n",
        "      array = [[1 if row == col else 0 for row in range(self.n_rows)] for col in range(self.n_cols)]\n",
        "      return Matrix(array)\n",
        "    def add_row(self, row, index=None):\n",
        "      if not isinstance(row, list):\n",
        "        raise TypeError('The matrix row must be a list.')\n",
        "      for number in row:\n",
        "        if not type(number) in (int,float):\n",
        "          raise TypeError('Row values must be int or float.')\n",
        "      if len(row) != self.n_cols:\n",
        "        raise ValueError('The row must be the same length as the number of columns in the matrix.')\n",
        "      if index is None:\n",
        "        self.array.append(row)\n",
        "      else:\n",
        "        self.array = self.array[0:index] + [row] + self.array[index:]\n",
        "\n",
        "    def add_column(self, column, index=None):\n",
        "      if not isinstance(column, list):\n",
        "        raise TypeError('The matrix column must be a list.')\n",
        "\n",
        "      for number in column:\n",
        "        if not type(number) in (int,float):\n",
        "          raise TypeError('Column values must be int or float.')\n",
        "\n",
        "      if len(column) != self.n_rows:\n",
        "        raise ValueError('The column must be the same length as the number of rows in the matrix.')\n",
        "\n",
        "      if index is None:\n",
        "        self.array = [self.array[idx] + [column[idx]] for idx in range(self.n_rows)]\n",
        "      else:\n",
        "        self.array = [self.array[idx][0: index] + [column[idx]] + self.array[idx][index:]\n",
        "                          for idx in range(self.n_rows)]\n",
        "    def transpose(self):\n",
        "      array = [[row[idx] for row in self.array] for idx in range(self.n_cols)]\n",
        "      return Matrix(array)\n",
        "    \n",
        "    def multiply_elementwise(self, other):\n",
        "      if not isinstance(other, Matrix):\n",
        "        raise TypeError('Cannot multiply object that is not a matrix.')\n",
        "      if self.size != other.size:\n",
        "        raise ValueError('The matrices must be of the same size.')\n",
        "      array = [[self.array[i][j] * other.array[i][j] for j in range(self.n_cols)] for i in range(self.n_rows)]\n",
        "      return Matrix(array)\n",
        "    @classmethod\n",
        "    def dot(cls, row, column):\n",
        "      if not isinstance(row, list) and isinstance(column, list):\n",
        "        raise TypeError('The row and column must be a list.')\n",
        "      return sum(row[idx] * column[idx] for idx in range(len(row)))\n"
      ],
      "execution_count": null,
      "outputs": []
    },
    {
      "cell_type": "markdown",
      "metadata": {
        "id": "Z1fRvjIpHwY4"
      },
      "source": [
        "#Stacks"
      ]
    },
    {
      "cell_type": "code",
      "metadata": {
        "id": "pxdCT5brGZAy"
      },
      "source": [
        "class EmptyStackError(Exception):\n",
        "    pass\n",
        "class Stack:\n",
        "  \"\"\" The simplest stack. \"\"\"\n",
        "  def __init__(self):\n",
        "    self._data = []\n",
        "  def __len__(self):\n",
        "    return len(self._data)\n",
        "  def push(self, item):\n",
        "    self._data.append(item)\n",
        "  def pop(self):\n",
        "    if len(self._data) == 0:\n",
        "      raise EmptyStackError('The stack is empty.')\n",
        "    return self._data.pop()"
      ],
      "execution_count": null,
      "outputs": []
    },
    {
      "cell_type": "code",
      "metadata": {
        "id": "BkqxUConIwmT"
      },
      "source": [
        "techs = Stack()"
      ],
      "execution_count": null,
      "outputs": []
    },
    {
      "cell_type": "code",
      "metadata": {
        "id": "3sHucRr7hy3h"
      },
      "source": [
        "techs.push('pytohn')"
      ],
      "execution_count": null,
      "outputs": []
    },
    {
      "cell_type": "code",
      "metadata": {
        "id": "HtrgqK6Dh03D"
      },
      "source": [
        "techs.push('sql')"
      ],
      "execution_count": null,
      "outputs": []
    },
    {
      "cell_type": "code",
      "metadata": {
        "colab": {
          "base_uri": "https://localhost:8080/"
        },
        "id": "xabKHSQMh55d",
        "outputId": "b7e2ea32-2253-4e8c-d214-323466732a79"
      },
      "source": [
        "len(techs)"
      ],
      "execution_count": null,
      "outputs": [
        {
          "output_type": "execute_result",
          "data": {
            "text/plain": [
              "2"
            ]
          },
          "metadata": {
            "tags": []
          },
          "execution_count": 9
        }
      ]
    },
    {
      "cell_type": "code",
      "metadata": {
        "colab": {
          "base_uri": "https://localhost:8080/",
          "height": 35
        },
        "id": "J8Wgt12xh7T5",
        "outputId": "307b8bf2-3bcb-48a0-a577-8978c8a9c545"
      },
      "source": [
        "techs.pop()"
      ],
      "execution_count": null,
      "outputs": [
        {
          "output_type": "execute_result",
          "data": {
            "application/vnd.google.colaboratory.intrinsic+json": {
              "type": "string"
            },
            "text/plain": [
              "'sql'"
            ]
          },
          "metadata": {
            "tags": []
          },
          "execution_count": 10
        }
      ]
    },
    {
      "cell_type": "code",
      "metadata": {
        "colab": {
          "base_uri": "https://localhost:8080/"
        },
        "id": "Dts-Y1K1h9AC",
        "outputId": "02b9a811-c8a1-4fc8-944f-80a4adf526a3"
      },
      "source": [
        "len(techs)"
      ],
      "execution_count": null,
      "outputs": [
        {
          "output_type": "execute_result",
          "data": {
            "text/plain": [
              "1"
            ]
          },
          "metadata": {
            "tags": []
          },
          "execution_count": 11
        }
      ]
    },
    {
      "cell_type": "code",
      "metadata": {
        "colab": {
          "base_uri": "https://localhost:8080/",
          "height": 35
        },
        "id": "GgN631RDh-ef",
        "outputId": "9ab73b93-6720-4a6e-9cc2-9227cf7554c6"
      },
      "source": [
        "techs.pop()"
      ],
      "execution_count": null,
      "outputs": [
        {
          "output_type": "execute_result",
          "data": {
            "application/vnd.google.colaboratory.intrinsic+json": {
              "type": "string"
            },
            "text/plain": [
              "'pytohn'"
            ]
          },
          "metadata": {
            "tags": []
          },
          "execution_count": 12
        }
      ]
    },
    {
      "cell_type": "code",
      "metadata": {
        "colab": {
          "base_uri": "https://localhost:8080/",
          "height": 265
        },
        "id": "WqG68EMziBVw",
        "outputId": "b5ec087a-0f6a-43d9-a5c8-726690f6d718"
      },
      "source": [
        "techs.pop()"
      ],
      "execution_count": null,
      "outputs": [
        {
          "output_type": "error",
          "ename": "EmptyStackError",
          "evalue": "ignored",
          "traceback": [
            "\u001b[0;31m---------------------------------------------------------------------------\u001b[0m",
            "\u001b[0;31mEmptyStackError\u001b[0m                           Traceback (most recent call last)",
            "\u001b[0;32m<ipython-input-13-932644ca7b18>\u001b[0m in \u001b[0;36m<module>\u001b[0;34m()\u001b[0m\n\u001b[0;32m----> 1\u001b[0;31m \u001b[0mtechs\u001b[0m\u001b[0;34m.\u001b[0m\u001b[0mpop\u001b[0m\u001b[0;34m(\u001b[0m\u001b[0;34m)\u001b[0m\u001b[0;34m\u001b[0m\u001b[0;34m\u001b[0m\u001b[0m\n\u001b[0m",
            "\u001b[0;32m<ipython-input-5-326a898b5872>\u001b[0m in \u001b[0;36mpop\u001b[0;34m(self)\u001b[0m\n\u001b[1;32m     11\u001b[0m   \u001b[0;32mdef\u001b[0m \u001b[0mpop\u001b[0m\u001b[0;34m(\u001b[0m\u001b[0mself\u001b[0m\u001b[0;34m)\u001b[0m\u001b[0;34m:\u001b[0m\u001b[0;34m\u001b[0m\u001b[0;34m\u001b[0m\u001b[0m\n\u001b[1;32m     12\u001b[0m     \u001b[0;32mif\u001b[0m \u001b[0mlen\u001b[0m\u001b[0;34m(\u001b[0m\u001b[0mself\u001b[0m\u001b[0;34m.\u001b[0m\u001b[0m_data\u001b[0m\u001b[0;34m)\u001b[0m \u001b[0;34m==\u001b[0m \u001b[0;36m0\u001b[0m\u001b[0;34m:\u001b[0m\u001b[0;34m\u001b[0m\u001b[0;34m\u001b[0m\u001b[0m\n\u001b[0;32m---> 13\u001b[0;31m       \u001b[0;32mraise\u001b[0m \u001b[0mEmptyStackError\u001b[0m\u001b[0;34m(\u001b[0m\u001b[0;34m'The stack is empty.'\u001b[0m\u001b[0;34m)\u001b[0m\u001b[0;34m\u001b[0m\u001b[0;34m\u001b[0m\u001b[0m\n\u001b[0m\u001b[1;32m     14\u001b[0m     \u001b[0;32mreturn\u001b[0m \u001b[0mself\u001b[0m\u001b[0;34m.\u001b[0m\u001b[0m_data\u001b[0m\u001b[0;34m.\u001b[0m\u001b[0mpop\u001b[0m\u001b[0;34m(\u001b[0m\u001b[0;34m)\u001b[0m\u001b[0;34m\u001b[0m\u001b[0;34m\u001b[0m\u001b[0m\n",
            "\u001b[0;31mEmptyStackError\u001b[0m: The stack is empty."
          ]
        }
      ]
    },
    {
      "cell_type": "code",
      "metadata": {
        "id": "T82AxjR-iDQ3"
      },
      "source": [
        "class EmptyStackError(Exception):\n",
        "    pass\n",
        "class Stack:\n",
        "  \"\"\" The simplest stack. \"\"\"\n",
        "  def __init__(self):\n",
        "    self._data = []\n",
        "  def __len__(self):\n",
        "    return len(self._data)\n",
        "  def push(self, item):\n",
        "    self._data.append(item)\n",
        "  def pop(self):\n",
        "    if len(self._data) == 0:\n",
        "      raise EmptyStackError('The stack is empty.')\n",
        "    return self._data.pop()\n",
        "  def is_empty(self):\n",
        "    return len(self._data) == 0"
      ],
      "execution_count": null,
      "outputs": []
    },
    {
      "cell_type": "code",
      "metadata": {
        "id": "V3oyAhMQiYB4"
      },
      "source": [
        "techs = Stack()\n",
        "techs.push('python')"
      ],
      "execution_count": null,
      "outputs": []
    },
    {
      "cell_type": "code",
      "metadata": {
        "colab": {
          "base_uri": "https://localhost:8080/"
        },
        "id": "L5K1WctOie33",
        "outputId": "2ef6b6b1-aff4-467d-a0e7-0bf7c1f16aac"
      },
      "source": [
        "techs.is_empty()"
      ],
      "execution_count": null,
      "outputs": [
        {
          "output_type": "execute_result",
          "data": {
            "text/plain": [
              "False"
            ]
          },
          "metadata": {
            "tags": []
          },
          "execution_count": 17
        }
      ]
    },
    {
      "cell_type": "code",
      "metadata": {
        "id": "YtMZGy63igBF"
      },
      "source": [
        "class EmptyStackError(Exception):\n",
        "    pass\n",
        " \n",
        " \n",
        "class Stack:\n",
        "    \"\"\"The simplest stack.\"\"\"\n",
        " \n",
        "    def __init__(self):\n",
        "        self._data = []\n",
        " \n",
        "    def __len__(self):\n",
        "        return len(self._data)\n",
        " \n",
        "    def push(self, item):\n",
        "        self._data.append(item)\n",
        " \n",
        "    def pop(self):\n",
        "        if self.is_empty():\n",
        "            raise EmptyStackError('The stack is empty.')\n",
        "        return self._data.pop()\n",
        " \n",
        "    def is_empty(self):\n",
        "        return len(self._data) == 0\n",
        " \n",
        " \n",
        "def is_palindrome(string):\n",
        "    stack = Stack()\n",
        "    is_palindrome_flag = True\n",
        " \n",
        "    for char in string:\n",
        "        stack.push(char)\n",
        " \n",
        "    for char in string:\n",
        "        if not char == stack.pop():\n",
        "            is_palindrome_flag = False\n",
        " \n",
        "    return is_palindrome_flag"
      ],
      "execution_count": null,
      "outputs": []
    },
    {
      "cell_type": "code",
      "metadata": {
        "id": "Bdy5vk3WpHAH"
      },
      "source": [
        "st = Stack()"
      ],
      "execution_count": null,
      "outputs": []
    },
    {
      "cell_type": "code",
      "metadata": {
        "id": "EbOIJw4YpMI-"
      },
      "source": [
        "st.push('kajak')"
      ],
      "execution_count": null,
      "outputs": []
    },
    {
      "cell_type": "code",
      "metadata": {
        "colab": {
          "base_uri": "https://localhost:8080/"
        },
        "id": "2zQF1EpXpPCD",
        "outputId": "e5aad3d3-57ad-43fd-f05f-59d9d63487b9"
      },
      "source": [
        "is_palindrome('kajak')"
      ],
      "execution_count": null,
      "outputs": [
        {
          "output_type": "execute_result",
          "data": {
            "text/plain": [
              "True"
            ]
          },
          "metadata": {
            "tags": []
          },
          "execution_count": 35
        }
      ]
    },
    {
      "cell_type": "code",
      "metadata": {
        "id": "2CzEWBDbpQIG"
      },
      "source": [
        "class EmptyStackError(Exception):\n",
        "    pass\n",
        " \n",
        " \n",
        "class Stack:\n",
        "    \"\"\"The simplest stack.\"\"\"\n",
        " \n",
        "    def __init__(self):\n",
        "        self._data = []\n",
        " \n",
        "    def __len__(self):\n",
        "        return len(self._data)\n",
        " \n",
        "    def push(self, item):\n",
        "        self._data.append(item)\n",
        " \n",
        "    def pop(self):\n",
        "        if self.is_empty():\n",
        "            raise EmptyStackError('The stack is empty.')\n",
        "        return self._data.pop()\n",
        " \n",
        "    def is_empty(self):\n",
        "        return len(self._data) == 0\n",
        "    \n",
        "    def top(self):\n",
        "      if self.is_empty():\n",
        "        raise EmptyStackError('The stack is empty.')\n",
        "      return self._data[-1]"
      ],
      "execution_count": null,
      "outputs": []
    },
    {
      "cell_type": "code",
      "metadata": {
        "id": "CfXzfGqGqFj3"
      },
      "source": [
        "st = Stack()\n",
        "st.push('Python')"
      ],
      "execution_count": null,
      "outputs": []
    },
    {
      "cell_type": "code",
      "metadata": {
        "colab": {
          "base_uri": "https://localhost:8080/",
          "height": 35
        },
        "id": "eCwjanP4sdgB",
        "outputId": "f1e4d78f-4872-4d84-bdf1-6de26d5175d3"
      },
      "source": [
        "st.top()"
      ],
      "execution_count": null,
      "outputs": [
        {
          "output_type": "execute_result",
          "data": {
            "application/vnd.google.colaboratory.intrinsic+json": {
              "type": "string"
            },
            "text/plain": [
              "'Python'"
            ]
          },
          "metadata": {
            "tags": []
          },
          "execution_count": 41
        }
      ]
    },
    {
      "cell_type": "code",
      "metadata": {
        "id": "14hTzc5_sfs2"
      },
      "source": [
        "st.push('latex')"
      ],
      "execution_count": null,
      "outputs": []
    },
    {
      "cell_type": "code",
      "metadata": {
        "colab": {
          "base_uri": "https://localhost:8080/",
          "height": 163
        },
        "id": "DYI_VIsqsouz",
        "outputId": "15bf9ece-da58-4a42-f6eb-21730e0984c5"
      },
      "source": [
        "st.len"
      ],
      "execution_count": null,
      "outputs": [
        {
          "output_type": "error",
          "ename": "AttributeError",
          "evalue": "ignored",
          "traceback": [
            "\u001b[0;31m---------------------------------------------------------------------------\u001b[0m",
            "\u001b[0;31mAttributeError\u001b[0m                            Traceback (most recent call last)",
            "\u001b[0;32m<ipython-input-44-364c804898b9>\u001b[0m in \u001b[0;36m<module>\u001b[0;34m()\u001b[0m\n\u001b[0;32m----> 1\u001b[0;31m \u001b[0mst\u001b[0m\u001b[0;34m.\u001b[0m\u001b[0mlen\u001b[0m\u001b[0;34m\u001b[0m\u001b[0;34m\u001b[0m\u001b[0m\n\u001b[0m",
            "\u001b[0;31mAttributeError\u001b[0m: 'Stack' object has no attribute 'len'"
          ]
        }
      ]
    },
    {
      "cell_type": "code",
      "metadata": {
        "id": "Bpe8rz_9sp1A"
      },
      "source": [
        "class EmptyStackError(Exception):\n",
        "    pass\n",
        " \n",
        " \n",
        "class Stack:\n",
        "    \"\"\"The simplest stack.\"\"\"\n",
        " \n",
        "    def __init__(self):\n",
        "        self._data = []\n",
        " \n",
        "    def __len__(self):\n",
        "        return len(self._data)\n",
        " \n",
        "    def push(self, item):\n",
        "        self._data.append(item)\n",
        " \n",
        "    def pop(self):\n",
        "        if self.is_empty():\n",
        "            raise EmptyStackError('The stack is empty.')\n",
        "        return self._data.pop()\n",
        " \n",
        "    def is_empty(self):\n",
        "        return len(self._data) == 0\n",
        "    \n",
        "    def top(self):\n",
        "      if self.is_empty():\n",
        "        raise EmptyStackError('The stack is empty.')\n",
        "      return self._data[-1]\n",
        "def is_valid_expression(expression):\n",
        "  left_side = '([{'\n",
        "  right_side = ')]}'\n",
        "  stack = Stack()\n",
        "\n",
        "  for char in expression:\n",
        "    if char in left_side:\n",
        "      stack.push(char)\n",
        "    elif char in right_side:\n",
        "      if stack.is_empty():\n",
        "        return False\n",
        "      if right_side.index(char) != left_side.index(stack.pop()):\n",
        "        return False\n",
        "  return stack.is_empty()"
      ],
      "execution_count": null,
      "outputs": []
    },
    {
      "cell_type": "code",
      "metadata": {
        "id": "n6ICvDHctXh5"
      },
      "source": [
        "class EmptyStackError(Exception):\n",
        "    pass\n",
        " \n",
        " \n",
        "class Stack:\n",
        "    \"\"\"The simplest stack.\"\"\"\n",
        " \n",
        "    def __init__(self):\n",
        "        self._data = []\n",
        " \n",
        "    def __len__(self):\n",
        "        return len(self._data)\n",
        " \n",
        "    def push(self, item):\n",
        "        self._data.append(item)\n",
        " \n",
        "    def pop(self):\n",
        "        if self.is_empty():\n",
        "            raise EmptyStackError('The stack is empty.')\n",
        "        return self._data.pop()\n",
        " \n",
        "    def is_empty(self):\n",
        "        return len(self._data) == 0\n",
        "    \n",
        "    def top(self):\n",
        "      if self.is_empty():\n",
        "        raise EmptyStackError('The stack is empty.')\n",
        "      return self._data[-1]\n",
        "    def clear(self):\n",
        "          self._data.clear()\n",
        "def transfer(stack_1, stack_2):\n",
        "  while not stack_1.is_empty():\n",
        "    stack_2.push(stack_1.pop())\n",
        "  return stack_1, stack_2"
      ],
      "execution_count": null,
      "outputs": []
    },
    {
      "cell_type": "markdown",
      "metadata": {
        "id": "Ul-91-oHxpQr"
      },
      "source": [
        "#Queue"
      ]
    },
    {
      "cell_type": "code",
      "metadata": {
        "id": "GAmhE8vGv7Fr"
      },
      "source": [
        "class Queue:\n",
        "  \"\"\"The simplest queue.\"\"\"\n",
        "  def __init__(self):\n",
        "    self._data = []\n",
        "  def __len__(self):\n",
        "    return len(self._data)\n",
        "  def enqueue(self, item):\n",
        "        self._data.append(item)\n",
        " \n",
        "  def dequeue(self):\n",
        "      if self.is_empty():\n",
        "          raise IndexError('The queue is empty.')\n",
        "      return self._data.pop(0)\n",
        "  def is_empty(self):\n",
        "    return len(self._data) == 0\n",
        "  def first(self):\n",
        "    if self.is_empty():\n",
        "      raise IndexError('The queue is empty.')\n",
        "    return self._data[0]"
      ],
      "execution_count": null,
      "outputs": []
    },
    {
      "cell_type": "code",
      "metadata": {
        "id": "LizNg8TuyucG"
      },
      "source": [
        "que = Queue()"
      ],
      "execution_count": null,
      "outputs": []
    },
    {
      "cell_type": "code",
      "metadata": {
        "id": "6gJ2perHzk07"
      },
      "source": [
        "que.enqueue('529')"
      ],
      "execution_count": null,
      "outputs": []
    },
    {
      "cell_type": "code",
      "metadata": {
        "id": "IXUoaXJOzn40"
      },
      "source": [
        "que.enqueue('623')"
      ],
      "execution_count": null,
      "outputs": []
    },
    {
      "cell_type": "code",
      "metadata": {
        "colab": {
          "base_uri": "https://localhost:8080/",
          "height": 35
        },
        "id": "jOQkEDkKzqp5",
        "outputId": "315ce9d9-a27f-403c-cd5e-baafae83ab80"
      },
      "source": [
        "que.dequeue()"
      ],
      "execution_count": null,
      "outputs": [
        {
          "output_type": "execute_result",
          "data": {
            "application/vnd.google.colaboratory.intrinsic+json": {
              "type": "string"
            },
            "text/plain": [
              "'529'"
            ]
          },
          "metadata": {
            "tags": []
          },
          "execution_count": 57
        }
      ]
    },
    {
      "cell_type": "code",
      "metadata": {
        "id": "MSLxMnGpzshM"
      },
      "source": [
        "que.enqueue('532')"
      ],
      "execution_count": null,
      "outputs": []
    },
    {
      "cell_type": "code",
      "metadata": {
        "colab": {
          "base_uri": "https://localhost:8080/",
          "height": 35
        },
        "id": "Q6yZf7_Uzw5q",
        "outputId": "8c90fe18-fd83-489c-da33-9a7d6460a617"
      },
      "source": [
        "que.first()"
      ],
      "execution_count": null,
      "outputs": [
        {
          "output_type": "execute_result",
          "data": {
            "application/vnd.google.colaboratory.intrinsic+json": {
              "type": "string"
            },
            "text/plain": [
              "'623'"
            ]
          },
          "metadata": {
            "tags": []
          },
          "execution_count": 59
        }
      ]
    },
    {
      "cell_type": "code",
      "metadata": {
        "id": "YjmA-rwPzy49"
      },
      "source": [
        "que.enqueue('304')"
      ],
      "execution_count": null,
      "outputs": []
    },
    {
      "cell_type": "code",
      "metadata": {
        "colab": {
          "base_uri": "https://localhost:8080/",
          "height": 35
        },
        "id": "T3pUkp-Xz1Ka",
        "outputId": "a698b5e4-d65d-46c7-da0c-a0a844f0922d"
      },
      "source": [
        "que.dequeue()"
      ],
      "execution_count": null,
      "outputs": [
        {
          "output_type": "execute_result",
          "data": {
            "application/vnd.google.colaboratory.intrinsic+json": {
              "type": "string"
            },
            "text/plain": [
              "'623'"
            ]
          },
          "metadata": {
            "tags": []
          },
          "execution_count": 62
        }
      ]
    },
    {
      "cell_type": "code",
      "metadata": {
        "id": "ttZgyxl2z7WZ",
        "colab": {
          "base_uri": "https://localhost:8080/"
        },
        "outputId": "60022257-dd3b-451a-bcc7-2633cbae075c"
      },
      "source": [
        "print(len(que))"
      ],
      "execution_count": null,
      "outputs": [
        {
          "output_type": "stream",
          "text": [
            "2\n"
          ],
          "name": "stdout"
        }
      ]
    },
    {
      "cell_type": "code",
      "metadata": {
        "id": "7n7Cy8WFz9Hy"
      },
      "source": [
        ""
      ],
      "execution_count": null,
      "outputs": []
    }
  ]
}